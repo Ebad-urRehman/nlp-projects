{
  "cells": [
    {
      "cell_type": "markdown",
      "metadata": {
        "id": "yfpYEPiTLSB3"
      },
      "source": [
        "# Custom Logistic Regression on Twitter Sentiment Analysis using NLTK Corpus USING PCA\n"
      ]
    },
    {
      "cell_type": "markdown",
      "metadata": {
        "id": "EvUfMBx7LSB6"
      },
      "source": [
        "### Code to run in colab or local PC\n",
        "Kaggle Link : https://www.kaggle.com/code/ebadurrehmanrashid/tweets-sentiment-using-custom-log-reg-and-pca\n",
        "\n",
        "Github Link : https://github.com/Ebad-urRehman/nlp-projects/blob/master/PCA_Tweets_sentiment_analysis_custom_log_reg.ipynb"
      ]
    },
    {
      "cell_type": "markdown",
      "metadata": {
        "id": "O_BE7BEcLSB8"
      },
      "source": [
        "# How to Implement custom logistic regression Tutorial with PCA"
      ]
    },
    {
      "cell_type": "markdown",
      "metadata": {
        "id": "qtadJSvcLSB-"
      },
      "source": [
        "## Importing files checking versions"
      ]
    },
    {
      "cell_type": "markdown",
      "metadata": {
        "id": "zaM1s409LSB_"
      },
      "source": [
        "## Importing and displaying dataset instances"
      ]
    },
    {
      "cell_type": "code",
      "execution_count": 8,
      "metadata": {
        "colab": {
          "base_uri": "https://localhost:8080/"
        },
        "id": "RxFb3ezENBjS",
        "outputId": "066193aa-f574-447c-cc2d-d05155219c9e"
      },
      "outputs": [
        {
          "name": "stderr",
          "output_type": "stream",
          "text": [
            "[nltk_data] Downloading package twitter_samples to /root/nltk_data...\n",
            "[nltk_data]   Package twitter_samples is already up-to-date!\n",
            "[nltk_data] Downloading package punkt to /root/nltk_data...\n",
            "[nltk_data]   Package punkt is already up-to-date!\n",
            "[nltk_data] Downloading package stopwords to /root/nltk_data...\n",
            "[nltk_data]   Unzipping corpora/stopwords.zip.\n"
          ]
        },
        {
          "data": {
            "text/plain": [
              "True"
            ]
          },
          "execution_count": 8,
          "metadata": {},
          "output_type": "execute_result"
        }
      ],
      "source": [
        "import nltk\n",
        "nltk.download('twitter_samples')\n",
        "nltk.download('punkt')\n",
        "nltk.download('stopwords')"
      ]
    },
    {
      "cell_type": "code",
      "execution_count": 9,
      "metadata": {
        "colab": {
          "base_uri": "https://localhost:8080/"
        },
        "execution": {
          "iopub.execute_input": "2025-04-13T09:11:17.210419Z",
          "iopub.status.busy": "2025-04-13T09:11:17.210175Z",
          "iopub.status.idle": "2025-04-13T09:11:23.046973Z",
          "shell.execute_reply": "2025-04-13T09:11:23.045832Z",
          "shell.execute_reply.started": "2025-04-13T09:11:17.210396Z"
        },
        "id": "iWDVPM3oE8MG",
        "outputId": "423e1596-cf45-4f6c-84ab-f4d538b4254a",
        "trusted": true
      },
      "outputs": [
        {
          "name": "stdout",
          "output_type": "stream",
          "text": [
            "5000\n",
            "5000\n",
            "20000\n"
          ]
        }
      ],
      "source": [
        "import nltk\n",
        "from nltk.corpus import twitter_samples\n",
        "positive_tweets = twitter_samples.strings('positive_tweets.json')\n",
        "negative_tweets = twitter_samples.strings('negative_tweets.json')\n",
        "text = twitter_samples.strings('tweets.20150430-223406.json')\n",
        "print(len(positive_tweets))\n",
        "print(len(negative_tweets))\n",
        "print(len(text))"
      ]
    },
    {
      "cell_type": "code",
      "execution_count": 10,
      "metadata": {
        "_kg_hide-input": true,
        "colab": {
          "base_uri": "https://localhost:8080/"
        },
        "execution": {
          "iopub.execute_input": "2025-04-13T09:11:29.258087Z",
          "iopub.status.busy": "2025-04-13T09:11:29.257729Z",
          "iopub.status.idle": "2025-04-13T09:11:29.263558Z",
          "shell.execute_reply": "2025-04-13T09:11:29.262514Z",
          "shell.execute_reply.started": "2025-04-13T09:11:29.258062Z"
        },
        "id": "WcgsqPmjE8MH",
        "outputId": "c3330520-55b5-49a4-bf35-6ac3b38b2b42",
        "trusted": true
      },
      "outputs": [
        {
          "name": "stdout",
          "output_type": "stream",
          "text": [
            "hopeless for tmr :(\n",
            "Everything in the kids section of IKEA is so cute. Shame I'm nearly 19 in 2 months :(\n",
            "@Hegelbon That heart sliding into the waste basket. :(\n",
            "“@ketchBurning: I hate Japanese call him \"bani\" :( :(”\n",
            "\n",
            "Me too\n",
            "Dang starting next week I have \"work\" :(\n"
          ]
        }
      ],
      "source": [
        "print('\\n'.join(negative_tweets[:5]))"
      ]
    },
    {
      "cell_type": "code",
      "execution_count": 11,
      "metadata": {
        "colab": {
          "base_uri": "https://localhost:8080/"
        },
        "execution": {
          "iopub.execute_input": "2025-04-13T09:11:32.308365Z",
          "iopub.status.busy": "2025-04-13T09:11:32.307546Z",
          "iopub.status.idle": "2025-04-13T09:11:32.313683Z",
          "shell.execute_reply": "2025-04-13T09:11:32.312739Z",
          "shell.execute_reply.started": "2025-04-13T09:11:32.308329Z"
        },
        "id": "B0uc4FyTE8MH",
        "outputId": "cc3d07cb-9509-4e9a-cb4b-966d5992b90f",
        "trusted": true
      },
      "outputs": [
        {
          "name": "stdout",
          "output_type": "stream",
          "text": [
            "RT @KirkKus: Indirect cost of the UK being in the EU is estimated to be costing Britain £170 billion per year! #BetterOffOut #UKIP\n",
            " VIDEO: Sturgeon on post-election deals http://t.co/BTJwrpbmOY\n",
            " RT @LabourEoin: The economy was growing 3 times faster on the day David Cameron became Prime Minister than it is today.. #BBCqt http://t.co…\n",
            " RT @GregLauder: the UKIP east lothian candidate looks about 16 and still has an msn addy http://t.co/7eIU0c5Fm1\n",
            " RT @thesundaypeople: UKIP's housing spokesman rakes in £800k in housing benefit from migrants.  http://t.co/GVwb9Rcb4w http://t.co/c1AZxcLh…\n"
          ]
        }
      ],
      "source": [
        "print('\\n '.join(text[:5]))\n"
      ]
    },
    {
      "cell_type": "markdown",
      "metadata": {
        "id": "EIrK2PolLSCH"
      },
      "source": [
        "# Preprocessing"
      ]
    },
    {
      "cell_type": "code",
      "execution_count": 12,
      "metadata": {
        "colab": {
          "base_uri": "https://localhost:8080/"
        },
        "execution": {
          "iopub.execute_input": "2025-04-13T09:11:39.39619Z",
          "iopub.status.busy": "2025-04-13T09:11:39.395404Z",
          "iopub.status.idle": "2025-04-13T09:11:40.821473Z",
          "shell.execute_reply": "2025-04-13T09:11:40.820483Z",
          "shell.execute_reply.started": "2025-04-13T09:11:39.396151Z"
        },
        "id": "iEelw9P-E8MI",
        "outputId": "30e71367-1f3e-48de-fc85-66fcfb64b039",
        "trusted": true
      },
      "outputs": [
        {
          "name": "stdout",
          "output_type": "stream",
          "text": [
            "[['#FollowFriday', '@France_Inte', '@PKuchly57', '@Milipol_Paris', 'for', 'being', 'top', 'engaged', 'members', 'in', 'my', 'community', 'this', 'week', ':)'], ['@Lamb2ja', 'Hey', 'James', '!', 'How', 'odd', ':/', 'Please', 'call', 'our', 'Contact', 'Centre', 'on', '02392441234', 'and', 'we', 'will', 'be', 'able', 'to', 'assist', 'you', ':)', 'Many', 'thanks', '!'], ['@DespiteOfficial', 'we', 'had', 'a', 'listen', 'last', 'night', ':)', 'As', 'You', 'Bleed', 'is', 'an', 'amazing', 'track', '.', 'When', 'are', 'you', 'in', 'Scotland', '?', '!']]\n",
            "[['hopeless', 'for', 'tmr', ':('], ['Everything', 'in', 'the', 'kids', 'section', 'of', 'IKEA', 'is', 'so', 'cute', '.', 'Shame', \"I'm\", 'nearly', '19', 'in', '2', 'months', ':('], ['@Hegelbon', 'That', 'heart', 'sliding', 'into', 'the', 'waste', 'basket', '.', ':(']]\n"
          ]
        }
      ],
      "source": [
        "# pre-processing\n",
        "import numpy as np\n",
        "tweet_tokens_pos = twitter_samples.tokenized('positive_tweets.json')\n",
        "tweet_tokens_neg = twitter_samples.tokenized('negative_tweets.json')\n",
        "all_tweets = tweet_tokens_pos + tweet_tokens_neg\n",
        "labels = np.concatenate((np.ones(len(positive_tweets)), np.zeros(len(negative_tweets))))\n",
        "print(tweet_tokens_pos[:3])\n",
        "print(tweet_tokens_neg[:3])"
      ]
    },
    {
      "cell_type": "markdown",
      "metadata": {
        "id": "J10vTng4LSCK"
      },
      "source": [
        "## Getting stopwords and punctuations"
      ]
    },
    {
      "cell_type": "code",
      "execution_count": 13,
      "metadata": {
        "colab": {
          "base_uri": "https://localhost:8080/"
        },
        "execution": {
          "iopub.execute_input": "2025-04-13T09:12:44.280933Z",
          "iopub.status.busy": "2025-04-13T09:12:44.280573Z",
          "iopub.status.idle": "2025-04-13T09:12:44.288275Z",
          "shell.execute_reply": "2025-04-13T09:12:44.287279Z",
          "shell.execute_reply.started": "2025-04-13T09:12:44.280908Z"
        },
        "id": "wTWyFH2aE8MI",
        "outputId": "20a31a01-fa1b-4905-ef10-0113e0159204",
        "trusted": true
      },
      "outputs": [
        {
          "name": "stdout",
          "output_type": "stream",
          "text": [
            "Stop words\n",
            "\n",
            "{'weren', \"you're\", 'off', \"we'd\", 'then', 'than', \"it's\", 'the', 'who', \"doesn't\", 'yourselves', 'theirs', 'itself', 'am', 'yours', 'against', 'if', \"i've\", 'no', 'wasn', 'will', \"they're\", 'shouldn', 'himself', 'other', 'these', 'out', \"she'd\", 'for', 'further', \"weren't\", 'on', 'in', 't', 'they', \"isn't\", 'as', \"you'd\", 'a', 'with', 'our', 'below', \"mustn't\", 'doing', 'between', 'its', \"he's\", 'his', 'did', 'them', 'down', 'having', 'needn', 'too', 'been', 'wouldn', 'doesn', \"hasn't\", 'under', 'that', 'her', \"won't\", 'i', 'above', 'about', 'me', 'isn', \"she's\", 'he', \"you'll\", 'nor', 'ma', 'ourselves', \"we're\", 'before', 'hasn', 'be', 'into', 'mustn', 'only', \"didn't\", \"he'll\", 'll', 'myself', \"i'll\", 'hadn', 'do', 'all', 'was', 'their', 'whom', 'or', 'more', 'have', 'haven', 'o', \"they've\", \"you've\", 'it', \"should've\", 'here', 'ours', 'while', \"shouldn't\", 'you', \"haven't\", 'so', 'won', 'from', 'this', 'can', 'those', 'had', 'most', 'an', \"shan't\", 'were', \"wouldn't\", 'very', 'once', 'hers', \"they'll\", 'are', \"he'd\", 'how', 'shan', 'some', 'y', \"it'd\", 'again', 'when', \"couldn't\", 'after', 're', \"it'll\", 'during', \"i'm\", 'each', 'to', 'him', 'not', 'but', 'until', 'there', 'aren', 've', 's', 'which', \"mightn't\", \"i'd\", 'because', 'couldn', \"that'll\", 'both', 'she', 'through', \"she'll\", 'by', 'of', 'just', \"hadn't\", 'own', 'such', 'has', 'being', \"we'll\", \"don't\", \"wasn't\", 'don', 'over', 'and', 'does', 'where', 'what', 'themselves', \"they'd\", \"needn't\", 'at', 'should', \"we've\", 'same', 'm', \"aren't\", 'd', 'is', 'yourself', 'we', 'why', 'ain', 'my', 'up', 'few', 'now', 'your', 'any', 'didn', 'herself', 'mightn'}\n",
            "\n",
            "Punctuation\n",
            "\n",
            "!\"#$%&'()*\n"
          ]
        }
      ],
      "source": [
        "# getting stop words and punctuation\n",
        "import string\n",
        "from nltk.corpus import stopwords\n",
        "stopwords_english = set(stopwords.words('english'))\n",
        "print('Stop words\\n')\n",
        "print(stopwords_english)\n",
        "print('\\nPunctuation\\n')\n",
        "print(string.punctuation[:10])"
      ]
    },
    {
      "cell_type": "markdown",
      "metadata": {
        "id": "3nHb2ts1LSCM"
      },
      "source": [
        "## Removing stop words and punctuations"
      ]
    },
    {
      "cell_type": "code",
      "execution_count": 14,
      "metadata": {
        "colab": {
          "base_uri": "https://localhost:8080/"
        },
        "execution": {
          "iopub.execute_input": "2025-04-13T09:13:18.370413Z",
          "iopub.status.busy": "2025-04-13T09:13:18.370077Z",
          "iopub.status.idle": "2025-04-13T09:13:18.430441Z",
          "shell.execute_reply": "2025-04-13T09:13:18.429513Z",
          "shell.execute_reply.started": "2025-04-13T09:13:18.370387Z"
        },
        "id": "Y50zJucSE8MJ",
        "outputId": "b954628d-a726-4d01-88f0-89f0868c6aed",
        "trusted": true
      },
      "outputs": [
        {
          "name": "stdout",
          "output_type": "stream",
          "text": [
            "\u001b[92m\n",
            "[['#FollowFriday', '@France_Inte', '@PKuchly57', '@Milipol_Paris', 'for', 'being', 'top', 'engaged', 'members', 'in', 'my', 'community', 'this', 'week', ':)'], ['@Lamb2ja', 'Hey', 'James', '!', 'How', 'odd', ':/', 'Please', 'call', 'our', 'Contact', 'Centre', 'on', '02392441234', 'and', 'we', 'will', 'be', 'able', 'to', 'assist', 'you', ':)', 'Many', 'thanks', '!'], ['@DespiteOfficial', 'we', 'had', 'a', 'listen', 'last', 'night', ':)', 'As', 'You', 'Bleed', 'is', 'an', 'amazing', 'track', '.', 'When', 'are', 'you', 'in', 'Scotland', '?', '!']]\n",
            "\u001b[94m\n",
            "removed stop words and punctuation:\n",
            "[['#followfriday', '@france_inte', '@pkuchly57', '@milipol_paris', 'top', 'engaged', 'members', 'community', 'week', ':)'], ['@lamb2ja', 'hey', 'james', 'how', 'odd', ':/', 'please', 'call', 'contact', 'centre', '02392441234', 'able', 'assist', ':)', 'many', 'thanks'], ['@despiteofficial', 'listen', 'last', 'night', ':)', 'as', 'you', 'bleed', 'amazing', 'track', 'when', 'scotland']]\n"
          ]
        }
      ],
      "source": [
        "# removing stopword and punctuation from tweets, and converting to lowercase\n",
        "print('\\033[92m')\n",
        "print(all_tweets[:3])\n",
        "print('\\033[94m')\n",
        "cleaned_tweets = []\n",
        "for tweet in all_tweets:\n",
        "    cleaned_tweet = []\n",
        "    for word in tweet:\n",
        "        if (word not in stopwords_english and word not in string.punctuation):\n",
        "            cleaned_tweet.append(word.lower())\n",
        "    cleaned_tweets.append(cleaned_tweet)\n",
        "print('removed stop words and punctuation:')\n",
        "print(cleaned_tweets[:3])"
      ]
    },
    {
      "cell_type": "markdown",
      "metadata": {
        "id": "UYNXi3fSLSCM"
      },
      "source": [
        "## Dealing with emotes :( :)"
      ]
    },
    {
      "cell_type": "code",
      "execution_count": 15,
      "metadata": {
        "execution": {
          "iopub.execute_input": "2025-04-13T09:13:30.76994Z",
          "iopub.status.busy": "2025-04-13T09:13:30.769596Z",
          "iopub.status.idle": "2025-04-13T09:13:30.779014Z",
          "shell.execute_reply": "2025-04-13T09:13:30.778141Z",
          "shell.execute_reply.started": "2025-04-13T09:13:30.769916Z"
        },
        "id": "SGHsSNzHE8ML",
        "trusted": true
      },
      "outputs": [],
      "source": [
        "# handling emojis and emoticons\n",
        "# happy emoticons\n",
        "emoticons_happy = set([\n",
        "    ':-)', ':)', ';)', ':o)', ':]', ':3', ':c)', ':>', '=]', '8)', '=)', ':}',\n",
        "    ':^)', ':-D', ':D', '8-D', '8D', 'x-D', 'xD', 'X-D', 'XD', '=-D', '=D',\n",
        "    '=-3', '=3', ':-))', \":'-)\", \":')\", ':*', ':^*', '>:P', ':-P', ':P', 'X-P',\n",
        "    'x-p', 'xp', 'XP', ':-p', ':p', '=p', ':-b', ':b', '>:)', '>;)', '>:-)',\n",
        "    '<3'\n",
        "    ])\n",
        "# sad emoticons\n",
        "emoticons_sad = set([\n",
        "    ':L', ':-/', '>:/', ':S', '>:[', ':@', ':-(', ':[', ':-||', '=L', ':<',\n",
        "    ':-[', ':-<', '=\\\\', '=/', '>:(', ':(', '>.<', \":'-(\", \":'(\", ':\\\\', ':-c',\n",
        "    ':c', ':{', '>:\\\\', ';(', ':/'\n",
        "    ])"
      ]
    },
    {
      "cell_type": "code",
      "execution_count": 16,
      "metadata": {
        "colab": {
          "base_uri": "https://localhost:8080/"
        },
        "execution": {
          "iopub.execute_input": "2025-04-13T09:13:37.151688Z",
          "iopub.status.busy": "2025-04-13T09:13:37.151343Z",
          "iopub.status.idle": "2025-04-13T09:13:37.189807Z",
          "shell.execute_reply": "2025-04-13T09:13:37.188541Z",
          "shell.execute_reply.started": "2025-04-13T09:13:37.151666Z"
        },
        "id": "C9GBNfbNE8ML",
        "outputId": "774b57ac-1f94-4fa1-b40c-beaebb77df90",
        "trusted": true
      },
      "outputs": [
        {
          "name": "stdout",
          "output_type": "stream",
          "text": [
            "\u001b[92m\n",
            "[['#followfriday', '@france_inte', '@pkuchly57', '@milipol_paris', 'top', 'engaged', 'members', 'community', 'week', ':)'], ['@lamb2ja', 'hey', 'james', 'how', 'odd', ':/', 'please', 'call', 'contact', 'centre', '02392441234', 'able', 'assist', ':)', 'many', 'thanks'], ['@despiteofficial', 'listen', 'last', 'night', ':)', 'as', 'you', 'bleed', 'amazing', 'track', 'when', 'scotland']]\n",
            "\u001b[94m\n",
            "removed emote icons and replace with sentiments\n",
            "[['#followfriday', '@france_inte', '@pkuchly57', '@milipol_paris', 'top', 'engaged', 'members', 'community', 'week', 'happy'], ['@lamb2ja', 'hey', 'james', 'how', 'odd', 'sad', 'please', 'call', 'contact', 'centre', '02392441234', 'able', 'assist', 'happy', 'many', 'thanks'], ['@despiteofficial', 'listen', 'last', 'night', 'happy', 'as', 'you', 'bleed', 'amazing', 'track', 'when', 'scotland']]\n"
          ]
        }
      ],
      "source": [
        "print('\\033[92m')\n",
        "print(cleaned_tweets[:3])\n",
        "print('\\033[94m')\n",
        "de_emoteicons_tweets = []\n",
        "for tweet in cleaned_tweets:\n",
        "    de_emoteicons_tweet = []\n",
        "    for index, word in enumerate(tweet):\n",
        "        if word in emoticons_happy:\n",
        "            de_emoteicons_tweet.append('happy')\n",
        "        elif word in emoticons_sad:\n",
        "            de_emoteicons_tweet.append('sad')\n",
        "        else:\n",
        "            de_emoteicons_tweet.append(word)\n",
        "\n",
        "    de_emoteicons_tweets.append(de_emoteicons_tweet)\n",
        "print('removed emote icons and replace with sentiments')\n",
        "print(de_emoteicons_tweets[:3])"
      ]
    },
    {
      "cell_type": "markdown",
      "metadata": {
        "id": "zrP5lLSXLSCN"
      },
      "source": [
        "## Dealing with emojies gives less accuracy(due to some mislabeled examples may be)"
      ]
    },
    {
      "cell_type": "code",
      "execution_count": 17,
      "metadata": {
        "execution": {
          "iopub.execute_input": "2025-04-13T09:14:22.29689Z",
          "iopub.status.busy": "2025-04-13T09:14:22.296522Z",
          "iopub.status.idle": "2025-04-13T09:14:22.301973Z",
          "shell.execute_reply": "2025-04-13T09:14:22.30093Z",
          "shell.execute_reply.started": "2025-04-13T09:14:22.296865Z"
        },
        "id": "yUpOpY6sE8MM",
        "trusted": true
      },
      "outputs": [],
      "source": [
        "# # remove emojies using emoji library\n",
        "# import emoji\n",
        "# print('\\033[92m')\n",
        "# print(de_emoteicons_tweets[:3])\n",
        "# print('\\033[94m')\n",
        "# def remove_emoji(text):\n",
        "#     return emoji.demojize(text).replace(\":\", \"\").replace(\"_\", \" \")\n",
        "\n",
        "# no_emoji_tweets = []\n",
        "\n",
        "# for tweet in de_emoteicons_tweets:\n",
        "#     no_emoji_tweet = []\n",
        "#     for word in tweet:\n",
        "#         no_emoji_tweet.append(remove_emoji(word))\n",
        "#     no_emoji_tweets.append(no_emoji_tweet)\n",
        "\n",
        "# print('removed emoji')\n",
        "# print(no_emoji_tweets[:3])\n",
        "\n",
        "# commenting this section gives a little bit both performance.\n",
        "# it is simple algorithm so it may also lack context so it is better to include that, in most cases"
      ]
    },
    {
      "cell_type": "markdown",
      "metadata": {
        "id": "uV0SHCtfLSCO"
      },
      "source": [
        "## Removing urls, handles, hashtags etc"
      ]
    },
    {
      "cell_type": "code",
      "execution_count": 18,
      "metadata": {
        "colab": {
          "base_uri": "https://localhost:8080/"
        },
        "execution": {
          "iopub.execute_input": "2025-04-13T09:14:33.415331Z",
          "iopub.status.busy": "2025-04-13T09:14:33.415025Z",
          "iopub.status.idle": "2025-04-13T09:14:33.806906Z",
          "shell.execute_reply": "2025-04-13T09:14:33.806033Z",
          "shell.execute_reply.started": "2025-04-13T09:14:33.415308Z"
        },
        "id": "LeLmtWpSE8MM",
        "outputId": "0a20b66c-0f6c-403f-ad87-c62816afcd13",
        "trusted": true
      },
      "outputs": [
        {
          "name": "stdout",
          "output_type": "stream",
          "text": [
            "\u001b[92m\n",
            "['#followfriday', '@france_inte', '@pkuchly57', '@milipol_paris', 'top', 'engaged', 'members', 'community', 'week', 'happy']\n",
            "\u001b[94m\n",
            "removed twitter handles\n",
            "[['top', 'engaged', 'members', 'community', 'week', 'happy'], ['hey', 'james', 'how', 'odd', 'sad', 'please', 'call', 'contact', 'centre', 'able', 'assist', 'happy', 'many', 'thanks'], ['listen', 'last', 'night', 'happy', 'as', 'you', 'bleed', 'amazing', 'track', 'when', 'scotland']]\n"
          ]
        }
      ],
      "source": [
        "# removing twitter handles and emails links etc\n",
        "print('\\033[92m')\n",
        "print(de_emoteicons_tweets[0])\n",
        "print('\\033[94m')\n",
        "import re\n",
        "\n",
        "# for removing handles\n",
        "handles_pattern = r'@[\\w]+'\n",
        "\n",
        "# for removing links\n",
        "url_pattern1 = r'https?://[A-Za-z0-9./]+'\n",
        "url_pattern2 = r'www.[^ ]+'\n",
        "\n",
        "# for removing emails\n",
        "email_pattern = r'\\S+@\\S+'\n",
        "\n",
        "# for removing hashtags\n",
        "hashtag_pattern = r'#[\\w]+'\n",
        "\n",
        "# for removing numbers\n",
        "number_pattern = r'\\d+'\n",
        "\n",
        "de_handle_tweets = []\n",
        "for tweet in de_emoteicons_tweets:\n",
        "    de_handle_tweet = []\n",
        "    for word in tweet:\n",
        "        word = re.sub(handles_pattern, '', word)\n",
        "        word = re.sub(url_pattern1, '', word)\n",
        "        word = re.sub(url_pattern2, '', word)\n",
        "        word = re.sub(email_pattern, '', word)\n",
        "        word = re.sub(hashtag_pattern, '', word)\n",
        "        word = re.sub(number_pattern, '', word)\n",
        "        de_handle_tweet.append(word) if word != '' else None\n",
        "    de_handle_tweets.append(de_handle_tweet)\n",
        "print('removed twitter handles')\n",
        "print(de_handle_tweets[:3])"
      ]
    },
    {
      "cell_type": "code",
      "execution_count": 19,
      "metadata": {
        "colab": {
          "base_uri": "https://localhost:8080/"
        },
        "execution": {
          "iopub.execute_input": "2025-04-13T09:14:38.330743Z",
          "iopub.status.busy": "2025-04-13T09:14:38.330027Z",
          "iopub.status.idle": "2025-04-13T09:14:38.336086Z",
          "shell.execute_reply": "2025-04-13T09:14:38.335113Z",
          "shell.execute_reply.started": "2025-04-13T09:14:38.330717Z"
        },
        "id": "SOceuYQ0E8MM",
        "outputId": "d9622833-2f2b-476e-9d19-29a049978626",
        "trusted": true
      },
      "outputs": [
        {
          "name": "stdout",
          "output_type": "stream",
          "text": [
            "\u001b[92m\n",
            "[['top', 'engaged', 'members', 'community', 'week', 'happy'], ['hey', 'james', 'how', 'odd', 'sad', 'please', 'call', 'contact', 'centre', 'able', 'assist', 'happy', 'many', 'thanks'], ['listen', 'last', 'night', 'happy', 'as', 'you', 'bleed', 'amazing', 'track', 'when', 'scotland']]\n",
            "\u001b[94m\n"
          ]
        }
      ],
      "source": [
        "# checking all tweets once\n",
        "print('\\033[92m')\n",
        "print(de_handle_tweets[:3])\n",
        "print('\\033[94m')"
      ]
    },
    {
      "cell_type": "markdown",
      "metadata": {
        "id": "9R-ENZXBLSCQ"
      },
      "source": [
        "# Train test split"
      ]
    },
    {
      "cell_type": "code",
      "execution_count": 20,
      "metadata": {
        "execution": {
          "iopub.execute_input": "2025-04-13T09:14:40.219851Z",
          "iopub.status.busy": "2025-04-13T09:14:40.219483Z",
          "iopub.status.idle": "2025-04-13T09:14:40.230556Z",
          "shell.execute_reply": "2025-04-13T09:14:40.229457Z",
          "shell.execute_reply.started": "2025-04-13T09:14:40.219826Z"
        },
        "id": "XYgc3E7dE8MO",
        "trusted": true
      },
      "outputs": [],
      "source": [
        "from sklearn.model_selection import train_test_split\n",
        "\n",
        "# train test split\n",
        "X_train, X_test, y_train, y_test = train_test_split(de_handle_tweets, labels, test_size=0.2, random_state=42)"
      ]
    },
    {
      "cell_type": "markdown",
      "metadata": {
        "id": "7KntOe_lLSCQ"
      },
      "source": [
        "# Vectorization using CountVectorizer"
      ]
    },
    {
      "cell_type": "code",
      "execution_count": 21,
      "metadata": {
        "colab": {
          "base_uri": "https://localhost:8080/"
        },
        "execution": {
          "iopub.execute_input": "2025-04-13T09:14:44.516391Z",
          "iopub.status.busy": "2025-04-13T09:14:44.516058Z",
          "iopub.status.idle": "2025-04-13T09:14:44.949059Z",
          "shell.execute_reply": "2025-04-13T09:14:44.948263Z",
          "shell.execute_reply.started": "2025-04-13T09:14:44.516365Z"
        },
        "id": "-yI_5KlME8MO",
        "outputId": "2cdecb04-b91f-4ad4-b409-c7b0f432c24c",
        "trusted": true
      },
      "outputs": [
        {
          "name": "stdout",
          "output_type": "stream",
          "text": [
            "(8000, 9341)\n",
            "(2000, 9341)\n",
            "<Compressed Sparse Row sparse matrix of dtype 'int64'\n",
            "\twith 2 stored elements and shape (1, 9341)>\n",
            "  Coords\tValues\n",
            "  (0, 6977)\t1\n",
            "  (0, 5019)\t1\n",
            "[[0 0 0 ... 0 0 0]]\n",
            "['__' '___' '__final_final_final' ... 'للعودة' 'ｍｅ' 'ｓｅｅ']\n"
          ]
        }
      ],
      "source": [
        "from sklearn.feature_extraction.text import CountVectorizer\n",
        "\n",
        "# Assuming X_train and X_test are lists of tokenized words\n",
        "vectorizer = CountVectorizer()\n",
        "\n",
        "# Transform the tokenized lists directly (no need for looping and rejoining)\n",
        "X_train_vectorized = vectorizer.fit_transform([' '.join(tweet) for tweet in X_train])\n",
        "X_test_vectorized = vectorizer.transform([' '.join(tweet) for tweet in X_test])\n",
        "\n",
        "# Print shapes of the resulting sparse matrices\n",
        "print(X_train_vectorized.shape)  # Number of documents x Number of unique words\n",
        "print(X_test_vectorized.shape)\n",
        "\n",
        "\n",
        "X_train_array = X_train_vectorized.toarray()\n",
        "X_test_array = X_test_vectorized.toarray()\n",
        "\n",
        "# To inspect a specific document's word counts, you can access it like this:\n",
        "# Get the first document's vector (sparse matrix format)\n",
        "print(X_train_vectorized[0])  # Sparse matrix format\n",
        "# If you want to see the word counts (dense format):\n",
        "print(X_train_vectorized[0].toarray())\n",
        "\n",
        "# Print the feature names (words corresponding to columns)\n",
        "print(vectorizer.get_feature_names_out())\n"
      ]
    },
    {
      "cell_type": "code",
      "execution_count": 22,
      "metadata": {
        "colab": {
          "base_uri": "https://localhost:8080/"
        },
        "execution": {
          "iopub.execute_input": "2025-04-13T09:14:48.074468Z",
          "iopub.status.busy": "2025-04-13T09:14:48.073843Z",
          "iopub.status.idle": "2025-04-13T09:14:48.080531Z",
          "shell.execute_reply": "2025-04-13T09:14:48.079197Z",
          "shell.execute_reply.started": "2025-04-13T09:14:48.074437Z"
        },
        "id": "0PBuHKJUE8MO",
        "outputId": "d18ad092-76a3-40ea-b98b-3871e7052c22",
        "trusted": true
      },
      "outputs": [
        {
          "name": "stdout",
          "output_type": "stream",
          "text": [
            "(8000, 9341)\n",
            "(2000, 9341)\n",
            "(8000,)\n",
            "(2000,)\n"
          ]
        }
      ],
      "source": [
        "print(X_train_array.shape)\n",
        "print(X_test_array.shape)\n",
        "print(y_train.shape)\n",
        "print(y_test.shape)"
      ]
    },
    {
      "cell_type": "code",
      "execution_count": 23,
      "metadata": {
        "colab": {
          "base_uri": "https://localhost:8080/"
        },
        "execution": {
          "iopub.execute_input": "2025-04-13T09:14:50.178605Z",
          "iopub.status.busy": "2025-04-13T09:14:50.178274Z",
          "iopub.status.idle": "2025-04-13T09:14:50.185576Z",
          "shell.execute_reply": "2025-04-13T09:14:50.184622Z",
          "shell.execute_reply.started": "2025-04-13T09:14:50.17858Z"
        },
        "id": "yD9d4OfkE8MP",
        "outputId": "6b37cb72-bad3-4340-b8a0-79376d25fd9e",
        "trusted": true
      },
      "outputs": [
        {
          "name": "stdout",
          "output_type": "stream",
          "text": [
            "[['sad', 'matt'], ['good', 'thanks', 'anyway', 'happy'], ['bf', 'mean', 'happy'], ['zzzz', 'missed', 'stop', 'sad'], ['means', 'am', 'australia', 'sad'], ['fake', 'i', 'texted', 'sad'], ['this', 'actually', 'made', 'cry', 'disgusting', 'what', 'the', 'actual', 'fuck', 'im', 'disgusted', \"i've\", 'seen', 'poor', 'people', 'sad'], [\"we're\", 'sorry', 'google', 'play', 'music', 'currently', 'experiencing', 'errors', 'please', 'try', 'minutes', 'sad'], ['have', 'good', 'match', 'nite', 'boys', 'lets', 'go', 'comp', 'high', 'enjoy', 'happy'], ['after', 'earth', 'happy']]\n",
            "[['i', 'love', 'feel', 'emm', 'i', 'think', 'sad'], ['thanks', 'guys', 'happy'], ['your', 'love', 'o', 'lord', 'better', 'life', 'happy', 'happy'], ['yeah', 'better', 'use', 'official', 'account', 'happy', 'like', 'the', 'other', '❤', '️'], ['ok', 'good', 'night', 'i', 'wish', 'troye', 'ugly', 'i', 'met', 'today', 'happy', '):', 'ok', 'today', 'fun', \"i'm\", 'excited', 'tmrw'], [\"i'm\", 'surprised', 'sounds', 'hellish', 'why', 'would', 'thing', 'sad'], ['dry', 'hot', 'scorching', 'summer', 'happy'], ['sad', 'pray', 'sad'], ['popol', 'day', 'sad'], ['my', 'song', 'week', 'ducktails', 'surreal', 'exposure', 'jingly', 'jangly', 'loveliness', 'happy']]\n",
            "[0. 1. 1. 0. 0. 0. 0. 0. 1. 1.]\n",
            "[0. 1. 1. 1. 1. 0. 1. 0. 0. 1.]\n"
          ]
        }
      ],
      "source": [
        "print(X_train[:10])\n",
        "print(X_test[:10])\n",
        "print(y_train[:10])\n",
        "print(y_test[:10])\n"
      ]
    },
    {
      "cell_type": "markdown",
      "metadata": {
        "id": "OK4vDkN0L7ad"
      },
      "source": [
        "### Applying PCA"
      ]
    },
    {
      "cell_type": "code",
      "execution_count": 24,
      "metadata": {
        "id": "4AYQ1nV7L-h8"
      },
      "outputs": [],
      "source": [
        "from sklearn.decomposition import PCA\n",
        "\n",
        "pca = PCA(n_components=2)  # or any number of components you want\n",
        "X_train_array = pca.fit_transform(X_train_array)\n",
        "X_test_array = pca.transform(X_test_array)"
      ]
    },
    {
      "cell_type": "markdown",
      "metadata": {
        "id": "LMfdz8SvMBHE"
      },
      "source": [
        "# Features after PCA"
      ]
    },
    {
      "cell_type": "code",
      "execution_count": 25,
      "metadata": {
        "colab": {
          "base_uri": "https://localhost:8080/"
        },
        "id": "nC55Yk0LMFOV",
        "outputId": "f07053f5-007c-4ac2-a814-cee43f3e483e"
      },
      "outputs": [
        {
          "name": "stdout",
          "output_type": "stream",
          "text": [
            "(8000, 2)\n",
            "(2000, 2)\n",
            "(8000,)\n",
            "(2000,)\n"
          ]
        }
      ],
      "source": [
        "print(X_train_array.shape)\n",
        "print(X_test_array.shape)\n",
        "print(y_train.shape)\n",
        "print(y_test.shape)"
      ]
    },
    {
      "cell_type": "markdown",
      "metadata": {
        "id": "u00JpzOcLSCS"
      },
      "source": [
        "# Sigmoid function"
      ]
    },
    {
      "cell_type": "code",
      "execution_count": 26,
      "metadata": {
        "colab": {
          "base_uri": "https://localhost:8080/"
        },
        "execution": {
          "iopub.execute_input": "2025-04-13T09:14:52.652619Z",
          "iopub.status.busy": "2025-04-13T09:14:52.652226Z",
          "iopub.status.idle": "2025-04-13T09:14:53.099124Z",
          "shell.execute_reply": "2025-04-13T09:14:53.098324Z",
          "shell.execute_reply.started": "2025-04-13T09:14:52.652594Z"
        },
        "id": "G8fmDeddE8MP",
        "outputId": "191450f0-64df-4ca5-ebea-3c5f55065178",
        "trusted": true
      },
      "outputs": [
        {
          "name": "stdout",
          "output_type": "stream",
          "text": [
            "(8000,)\n",
            "[0.49957864 0.50054705 0.50050695 0.49957074 0.49957831]\n"
          ]
        }
      ],
      "source": [
        "# own implementation of logistic regression\n",
        "def sigmoid(z):\n",
        "    return 1/ (1 + np.exp(-z))\n",
        "\n",
        "# number of training examples\n",
        "m = X_train_array.shape[0]\n",
        "\n",
        "# number of features\n",
        "n = X_train_array.shape[1]\n",
        "\n",
        "# initializing weights and bias\n",
        "initialize_weights = np.random.randn(n) * 0.01\n",
        "initialize_bias = 0\n",
        "\n",
        "\n",
        "## below lines are just for test\n",
        "z = np.dot(X_train_array, initialize_weights) + initialize_bias\n",
        "predictions = sigmoid(z) # as X_train is sparse matrix and z to so for calculating sigmoid we need to convert it to dense matrix\n",
        "print(predictions.shape)\n",
        "print(predictions[:5])\n",
        "\n"
      ]
    },
    {
      "cell_type": "markdown",
      "metadata": {
        "id": "5cOBISXJLSCS"
      },
      "source": [
        "# Compute Gradient, Cost function and Gradient descent"
      ]
    },
    {
      "cell_type": "code",
      "execution_count": 27,
      "metadata": {
        "colab": {
          "base_uri": "https://localhost:8080/"
        },
        "execution": {
          "iopub.execute_input": "2025-04-13T09:23:31.277589Z",
          "iopub.status.busy": "2025-04-13T09:23:31.277213Z",
          "iopub.status.idle": "2025-04-13T09:30:00.333113Z",
          "shell.execute_reply": "2025-04-13T09:30:00.332024Z",
          "shell.execute_reply.started": "2025-04-13T09:23:31.277561Z"
        },
        "id": "rXbO3C-DE8MP",
        "outputId": "3c195af5-7301-43a3-d6d1-61af10347540",
        "trusted": true
      },
      "outputs": [
        {
          "name": "stdout",
          "output_type": "stream",
          "text": [
            "Epoch 0, Cost: 0.6921764831756808\n",
            "Epoch 10, Cost: 0.6793732840962616\n",
            "Epoch 20, Cost: 0.6669672923504988\n",
            "Epoch 30, Cost: 0.6549453853623028\n",
            "Epoch 40, Cost: 0.6432944787372213\n",
            "Epoch 50, Cost: 0.632001604622284\n",
            "Epoch 60, Cost: 0.6210539821901777\n",
            "Epoch 70, Cost: 0.6104390781624686\n",
            "Epoch 80, Cost: 0.60014465640919\n",
            "Epoch 90, Cost: 0.5901588166190213\n",
            "Epoch 100, Cost: 0.5804700227330855\n",
            "Epoch 110, Cost: 0.5710671222644551\n",
            "Epoch 120, Cost: 0.5619393578241868\n",
            "Epoch 130, Cost: 0.5530763722036165\n",
            "Epoch 140, Cost: 0.5444682082823862\n",
            "Epoch 150, Cost: 0.5361053048921329\n",
            "Epoch 160, Cost: 0.5279784896028769\n",
            "Epoch 170, Cost: 0.5200789692358839\n",
            "Epoch 180, Cost: 0.5123983187561847\n",
            "Epoch 190, Cost: 0.5049284690659995\n",
            "Epoch 200, Cost: 0.4976616941087684\n",
            "Epoch 210, Cost: 0.49059059760143525\n",
            "Epoch 220, Cost: 0.48370809963808453\n",
            "Epoch 230, Cost: 0.4770074233484427\n",
            "Epoch 240, Cost: 0.47048208174764145\n",
            "Epoch 250, Cost: 0.4641258648766888\n",
            "Epoch 260, Cost: 0.45793282730431956\n",
            "Epoch 270, Cost: 0.45189727603862284\n",
            "Epoch 280, Cost: 0.44601375887970796\n",
            "Epoch 290, Cost: 0.440277053231565\n",
            "Epoch 300, Cost: 0.4346821553813204\n",
            "Epoch 310, Cost: 0.4292242702465963\n",
            "Epoch 320, Cost: 0.4238988015860969\n",
            "Epoch 330, Cost: 0.41870134266444325\n",
            "Epoch 340, Cost: 0.4136276673593292\n",
            "Epoch 350, Cost: 0.40867372169700206\n",
            "Epoch 360, Cost: 0.4038356158006966\n",
            "Epoch 370, Cost: 0.399109616235794\n",
            "Epoch 380, Cost: 0.3944921387350245\n",
            "Epoch 390, Cost: 0.3899797412868883\n",
            "Epoch 400, Cost: 0.3855691175705513\n",
            "Epoch 410, Cost: 0.38125709072072994\n",
            "Epoch 420, Cost: 0.3770406074064581\n",
            "Epoch 430, Cost: 0.3729167322081064\n",
            "Epoch 440, Cost: 0.36888264227755413\n",
            "Epoch 450, Cost: 0.3649356222669952\n",
            "Epoch 460, Cost: 0.3610730595124578\n",
            "Epoch 470, Cost: 0.3572924394587294\n",
            "Epoch 480, Cost: 0.3535913413129974\n",
            "Epoch 490, Cost: 0.34996743391511975\n",
            "Epoch 500, Cost: 0.3464184718130406\n",
            "Epoch 510, Cost: 0.34294229153244815\n",
            "Epoch 520, Cost: 0.33953680803033537\n",
            "Epoch 530, Cost: 0.33620001132266863\n",
            "Epoch 540, Cost: 0.33292996327689084\n",
            "Epoch 550, Cost: 0.32972479456048714\n",
            "Epoch 560, Cost: 0.32658270173731624\n",
            "Epoch 570, Cost: 0.32350194450386655\n",
            "Epoch 580, Cost: 0.32048084305802677\n",
            "Epoch 590, Cost: 0.31751777559337313\n",
            "Epoch 600, Cost: 0.3146111759123598\n",
            "Epoch 610, Cost: 0.3117595311521708\n",
            "Epoch 620, Cost: 0.308961379617337\n",
            "Epoch 630, Cost: 0.3062153087135529\n",
            "Epoch 640, Cost: 0.3035199529774344\n",
            "Epoch 650, Cost: 0.3008739921972573\n",
            "Epoch 660, Cost: 0.2982761496199865\n",
            "Epoch 670, Cost: 0.29572519024017213\n",
            "Epoch 680, Cost: 0.2932199191665304\n",
            "Epoch 690, Cost: 0.2907591800622611\n",
            "Epoch 700, Cost: 0.2883418536553702\n",
            "Epoch 710, Cost: 0.28596685631547347\n",
            "Epoch 720, Cost: 0.28363313869374884\n",
            "Epoch 730, Cost: 0.28133968442288815\n",
            "Epoch 740, Cost: 0.2790855088740728\n",
            "Epoch 750, Cost: 0.276869657968157\n",
            "Epoch 760, Cost: 0.2746912070383957\n",
            "Epoch 770, Cost: 0.27254925974220023\n",
            "Epoch 780, Cost: 0.27044294701953603\n",
            "Epoch 790, Cost: 0.26837142609570847\n",
            "Epoch 800, Cost: 0.2663338795264011\n",
            "Epoch 810, Cost: 0.2643295142829429\n",
            "Epoch 820, Cost: 0.26235756087589146\n",
            "Epoch 830, Cost: 0.2604172725151163\n",
            "Epoch 840, Cost: 0.2585079243046637\n",
            "Epoch 850, Cost: 0.25662881247077224\n",
            "Epoch 860, Cost: 0.25477925362149706\n",
            "Epoch 870, Cost: 0.2529585840364732\n",
            "Epoch 880, Cost: 0.25116615898543204\n",
            "Epoch 890, Cost: 0.24940135207415\n",
            "Epoch 900, Cost: 0.24766355461657885\n",
            "Epoch 910, Cost: 0.2459521750319686\n",
            "Epoch 920, Cost: 0.24426663826585587\n",
            "Epoch 930, Cost: 0.2426063852338453\n",
            "Epoch 940, Cost: 0.24097087228716652\n",
            "Epoch 950, Cost: 0.23935957069903863\n",
            "Epoch 960, Cost: 0.2377719661709233\n",
            "Epoch 970, Cost: 0.2362075583577917\n",
            "Epoch 980, Cost: 0.2346658604115737\n",
            "Epoch 990, Cost: 0.23314639854199834\n"
          ]
        }
      ],
      "source": [
        "# cost function\n",
        "def compute_gradients(X, y, y_hat):\n",
        "    m = y.shape[0] # number of training examples\n",
        "\n",
        "    dw = (1/m) * np.dot(X.T, (y_hat - y))\n",
        "    db = (1/m) * np.sum(y_hat - y)\n",
        "\n",
        "    return dw, db\n",
        "\n",
        "\n",
        "def compute_cost(y, y_hat):\n",
        "    m = y.shape[0] # number of training examples\n",
        "    epsilon = 1e-15  # prevent log(0)\n",
        "    y_hat = np.clip(y_hat, epsilon, 1 - epsilon) # restrict y_hat to avoid log(0)\n",
        "\n",
        "    cost = (-1/m) * np.sum(y * np.log(y_hat) + (1-y) * np.log(1-y_hat))\n",
        "    return cost\n",
        "\n",
        "# Gradient Descent\n",
        "def gradient_descent(X, y, weights, bias, epochs, learning_rate=0.01):\n",
        "    costs = []\n",
        "    for i in range(epochs):\n",
        "        z = np.dot(X, weights) + bias\n",
        "\n",
        "        y_hat = sigmoid(z)\n",
        "\n",
        "        cost = compute_cost(y, y_hat)\n",
        "        dw, db = compute_gradients(X, y, y_hat)\n",
        "\n",
        "        weights -= learning_rate * dw\n",
        "        bias -= learning_rate * db\n",
        "\n",
        "        costs.append(cost)\n",
        "        if i % 10 == 0:\n",
        "            print(f\"Epoch {i}, Cost: {cost}\")\n",
        "    return weights, bias, costs\n",
        "\n",
        "# Training the model\n",
        "epochs = 1000\n",
        "weights, bias, costs = gradient_descent(X_train_array, y_train, initialize_weights, initialize_bias, epochs, learning_rate=0.01)\n"
      ]
    },
    {
      "cell_type": "markdown",
      "metadata": {
        "id": "LlW4EWQxLSCT"
      },
      "source": [
        "## Plotting cost function with epochs"
      ]
    },
    {
      "cell_type": "code",
      "execution_count": 28,
      "metadata": {
        "colab": {
          "base_uri": "https://localhost:8080/",
          "height": 472
        },
        "execution": {
          "iopub.execute_input": "2025-04-13T09:31:03.419071Z",
          "iopub.status.busy": "2025-04-13T09:31:03.418281Z",
          "iopub.status.idle": "2025-04-13T09:31:03.671939Z",
          "shell.execute_reply": "2025-04-13T09:31:03.671008Z",
          "shell.execute_reply.started": "2025-04-13T09:31:03.419036Z"
        },
        "id": "87KpnWC2E8MQ",
        "outputId": "ce392ba1-d536-4872-c8dc-0b5b29ac722d",
        "trusted": true
      },
      "outputs": [
        {
          "data": {
            "image/png": "[encoded data removed]",
            "text/plain": [
              "<Figure size 640x480 with 1 Axes>"
            ]
          },
          "metadata": {},
          "output_type": "display_data"
        }
      ],
      "source": [
        "# Plotting the cost function\n",
        "import matplotlib.pyplot as plt\n",
        "plt.plot(costs)\n",
        "plt.xlabel('Epochs')\n",
        "plt.ylabel('Cost')\n",
        "plt.title('Cost Function over Epochs')\n",
        "plt.show()"
      ]
    },
    {
      "cell_type": "markdown",
      "metadata": {
        "id": "tukEOPTOLSCU"
      },
      "source": [
        "## Making predictions on test set"
      ]
    },
    {
      "cell_type": "code",
      "execution_count": 29,
      "metadata": {
        "execution": {
          "iopub.execute_input": "2025-04-13T09:31:06.423866Z",
          "iopub.status.busy": "2025-04-13T09:31:06.423497Z",
          "iopub.status.idle": "2025-04-13T09:31:06.742746Z",
          "shell.execute_reply": "2025-04-13T09:31:06.741957Z",
          "shell.execute_reply.started": "2025-04-13T09:31:06.42384Z"
        },
        "id": "UY1DLcvOE8MQ",
        "trusted": true
      },
      "outputs": [],
      "source": [
        "# Making predictions\n",
        "y_pred_train = sigmoid(np.dot(X_train_array, weights) + bias)\n",
        "y_pred_train = np.where(y_pred_train > 0.5, 1, 0)\n",
        "y_pred_test = sigmoid(np.dot(X_test_array, weights) + bias)\n",
        "y_pred_test = np.where(y_pred_test > 0.5, 1, 0)"
      ]
    },
    {
      "cell_type": "markdown",
      "metadata": {
        "id": "EJh1i9uILSCU"
      },
      "source": [
        "## Checking accuracy on test set"
      ]
    },
    {
      "cell_type": "code",
      "execution_count": 30,
      "metadata": {
        "colab": {
          "base_uri": "https://localhost:8080/"
        },
        "execution": {
          "iopub.execute_input": "2025-04-13T09:31:16.53956Z",
          "iopub.status.busy": "2025-04-13T09:31:16.538806Z",
          "iopub.status.idle": "2025-04-13T09:31:16.592915Z",
          "shell.execute_reply": "2025-04-13T09:31:16.59194Z",
          "shell.execute_reply.started": "2025-04-13T09:31:16.539533Z"
        },
        "id": "lgJLfoz-E8MQ",
        "outputId": "43abeaab-77ee-42f2-dac7-a4e23ee68a1d",
        "trusted": true
      },
      "outputs": [
        {
          "name": "stdout",
          "output_type": "stream",
          "text": [
            "Training Accuracy: 0.99225\n",
            "Test Accuracy: 0.991\n",
            "Training Classification Report:\n",
            "               precision    recall  f1-score   support\n",
            "\n",
            "         0.0       1.00      0.99      0.99      4012\n",
            "         1.0       0.99      1.00      0.99      3988\n",
            "\n",
            "    accuracy                           0.99      8000\n",
            "   macro avg       0.99      0.99      0.99      8000\n",
            "weighted avg       0.99      0.99      0.99      8000\n",
            "\n",
            "Test Classification Report:\n",
            "               precision    recall  f1-score   support\n",
            "\n",
            "         0.0       1.00      0.98      0.99       988\n",
            "         1.0       0.98      1.00      0.99      1012\n",
            "\n",
            "    accuracy                           0.99      2000\n",
            "   macro avg       0.99      0.99      0.99      2000\n",
            "weighted avg       0.99      0.99      0.99      2000\n",
            "\n",
            "Training Confusion Matrix:\n",
            " [[3956   56]\n",
            " [   6 3982]]\n",
            "Test Confusion Matrix:\n",
            " [[ 972   16]\n",
            " [   2 1010]]\n"
          ]
        }
      ],
      "source": [
        "# Evaluating the model\n",
        "from sklearn.metrics import accuracy_score, classification_report, confusion_matrix\n",
        "print(\"Training Accuracy:\", accuracy_score(y_train, y_pred_train))\n",
        "print(\"Test Accuracy:\", accuracy_score(y_test, y_pred_test))\n",
        "print(\"Training Classification Report:\\n\", classification_report(y_train, y_pred_train))\n",
        "print(\"Test Classification Report:\\n\", classification_report(y_test, y_pred_test))\n",
        "print(\"Training Confusion Matrix:\\n\", confusion_matrix(y_train, y_pred_train))\n",
        "print(\"Test Confusion Matrix:\\n\", confusion_matrix(y_test, y_pred_test))\n",
        "\n",
        "# Plotting the confusion matrix\n"
      ]
    },
    {
      "cell_type": "code",
      "execution_count": 30,
      "metadata": {
        "id": "NeeVKxgyM5DU"
      },
      "outputs": [],
      "source": []
    }
  ],
  "metadata": {
    "colab": {
      "name": "Sentiment Analysis using custom Logist regression ",
      "provenance": []
    },
    "kaggle": {
      "accelerator": "none",
      "dataSources": [],
      "dockerImageVersionId": 31012,
      "isGpuEnabled": false,
      "isInternetEnabled": false,
      "language": "python",
      "sourceType": "notebook"
    },
    "kernelspec": {
      "display_name": "Python 3",
      "name": "python3"
    },
    "language_info": {
      "codemirror_mode": {
        "name": "ipython",
        "version": 3
      },
      "file_extension": ".py",
      "mimetype": "text/x-python",
      "name": "python",
      "nbconvert_exporter": "python",
      "pygments_lexer": "ipython3",
      "version": "3.11.11"
    }
  },
  "nbformat": 4,
  "nbformat_minor": 0
}
