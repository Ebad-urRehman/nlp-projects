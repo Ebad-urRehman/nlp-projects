{
 "cells": [
  {
   "cell_type": "markdown",
   "metadata": {},
   "source": [
    "# Custom Logistic Regression on Twitter Sentiment Analysis using NLTK Corpus\n"
   ]
  },
  {
   "cell_type": "markdown",
   "metadata": {},
   "source": [
    "### Code to run in colab or local PC\n",
    "Kaggle Link : https://www.kaggle.com/code/ebadurrehmanrashid/sentiment-analysis-using-custom-logist-regression\n",
    "\n",
    "Github Link : https://github.com/Ebad-urRehman/nlp-projects/blob/master/Tweets_sentiment_analysis using_Custom_logistic_Regression.ipynb"
   ]
  },
  {
   "cell_type": "markdown",
   "metadata": {},
   "source": [
    "# How to Implement custom logistic regression Tutorial"
   ]
  },
  {
   "cell_type": "markdown",
   "metadata": {},
   "source": [
    "## Importing files checking versions"
   ]
  },
  {
   "cell_type": "markdown",
   "metadata": {},
   "source": [
    "## Importing and displaying dataset instances"
   ]
  },
  {
   "cell_type": "code",
   "execution_count": 1,
   "metadata": {
    "colab": {
     "base_uri": "https://localhost:8080/"
    },
    "execution": {
     "iopub.execute_input": "2025-04-13T09:11:17.210419Z",
     "iopub.status.busy": "2025-04-13T09:11:17.210175Z",
     "iopub.status.idle": "2025-04-13T09:11:23.046973Z",
     "shell.execute_reply": "2025-04-13T09:11:23.045832Z",
     "shell.execute_reply.started": "2025-04-13T09:11:17.210396Z"
    },
    "id": "iWDVPM3oE8MG",
    "outputId": "1f84dc0f-586b-4a16-a0e2-83096d8cf0b3",
    "trusted": true
   },
   "outputs": [
    {
     "name": "stdout",
     "output_type": "stream",
     "text": [
      "5000\n",
      "5000\n",
      "20000\n"
     ]
    }
   ],
   "source": [
    "import nltk\n",
    "from nltk.corpus import twitter_samples\n",
    "positive_tweets = twitter_samples.strings('positive_tweets.json')\n",
    "negative_tweets = twitter_samples.strings('negative_tweets.json')\n",
    "text = twitter_samples.strings('tweets.20150430-223406.json')\n",
    "print(len(positive_tweets))\n",
    "print(len(negative_tweets))\n",
    "print(len(text))"
   ]
  },
  {
   "cell_type": "code",
   "execution_count": 2,
   "metadata": {
    "_kg_hide-input": true,
    "colab": {
     "base_uri": "https://localhost:8080/"
    },
    "execution": {
     "iopub.execute_input": "2025-04-13T09:11:29.258087Z",
     "iopub.status.busy": "2025-04-13T09:11:29.257729Z",
     "iopub.status.idle": "2025-04-13T09:11:29.263558Z",
     "shell.execute_reply": "2025-04-13T09:11:29.262514Z",
     "shell.execute_reply.started": "2025-04-13T09:11:29.258062Z"
    },
    "id": "WcgsqPmjE8MH",
    "outputId": "b6a060f7-b9dd-4510-8696-6846fb613741",
    "trusted": true
   },
   "outputs": [
    {
     "name": "stdout",
     "output_type": "stream",
     "text": [
      "hopeless for tmr :(\n",
      "Everything in the kids section of IKEA is so cute. Shame I'm nearly 19 in 2 months :(\n",
      "@Hegelbon That heart sliding into the waste basket. :(\n",
      "“@ketchBurning: I hate Japanese call him \"bani\" :( :(”\n",
      "\n",
      "Me too\n",
      "Dang starting next week I have \"work\" :(\n"
     ]
    }
   ],
   "source": [
    "print('\\n'.join(negative_tweets[:5]))"
   ]
  },
  {
   "cell_type": "code",
   "execution_count": 3,
   "metadata": {
    "colab": {
     "base_uri": "https://localhost:8080/"
    },
    "execution": {
     "iopub.execute_input": "2025-04-13T09:11:32.308365Z",
     "iopub.status.busy": "2025-04-13T09:11:32.307546Z",
     "iopub.status.idle": "2025-04-13T09:11:32.313683Z",
     "shell.execute_reply": "2025-04-13T09:11:32.312739Z",
     "shell.execute_reply.started": "2025-04-13T09:11:32.308329Z"
    },
    "id": "B0uc4FyTE8MH",
    "outputId": "eded5605-5300-457e-a250-4de4e0fbf945",
    "trusted": true
   },
   "outputs": [
    {
     "name": "stdout",
     "output_type": "stream",
     "text": [
      "RT @KirkKus: Indirect cost of the UK being in the EU is estimated to be costing Britain £170 billion per year! #BetterOffOut #UKIP\n",
      " VIDEO: Sturgeon on post-election deals http://t.co/BTJwrpbmOY\n",
      " RT @LabourEoin: The economy was growing 3 times faster on the day David Cameron became Prime Minister than it is today.. #BBCqt http://t.co…\n",
      " RT @GregLauder: the UKIP east lothian candidate looks about 16 and still has an msn addy http://t.co/7eIU0c5Fm1\n",
      " RT @thesundaypeople: UKIP's housing spokesman rakes in £800k in housing benefit from migrants.  http://t.co/GVwb9Rcb4w http://t.co/c1AZxcLh…\n"
     ]
    }
   ],
   "source": [
    "print('\\n '.join(text[:5]))\n"
   ]
  },
  {
   "cell_type": "markdown",
   "metadata": {},
   "source": [
    "# Preprocessing"
   ]
  },
  {
   "cell_type": "code",
   "execution_count": 4,
   "metadata": {
    "colab": {
     "base_uri": "https://localhost:8080/"
    },
    "execution": {
     "iopub.execute_input": "2025-04-13T09:11:39.396190Z",
     "iopub.status.busy": "2025-04-13T09:11:39.395404Z",
     "iopub.status.idle": "2025-04-13T09:11:40.821473Z",
     "shell.execute_reply": "2025-04-13T09:11:40.820483Z",
     "shell.execute_reply.started": "2025-04-13T09:11:39.396151Z"
    },
    "id": "iEelw9P-E8MI",
    "outputId": "4b8c8de5-40a9-4e9f-b815-5b4a8a7fd576",
    "trusted": true
   },
   "outputs": [
    {
     "name": "stdout",
     "output_type": "stream",
     "text": [
      "[['#FollowFriday', '@France_Inte', '@PKuchly57', '@Milipol_Paris', 'for', 'being', 'top', 'engaged', 'members', 'in', 'my', 'community', 'this', 'week', ':)'], ['@Lamb2ja', 'Hey', 'James', '!', 'How', 'odd', ':/', 'Please', 'call', 'our', 'Contact', 'Centre', 'on', '02392441234', 'and', 'we', 'will', 'be', 'able', 'to', 'assist', 'you', ':)', 'Many', 'thanks', '!'], ['@DespiteOfficial', 'we', 'had', 'a', 'listen', 'last', 'night', ':)', 'As', 'You', 'Bleed', 'is', 'an', 'amazing', 'track', '.', 'When', 'are', 'you', 'in', 'Scotland', '?', '!']]\n",
      "[['hopeless', 'for', 'tmr', ':('], ['Everything', 'in', 'the', 'kids', 'section', 'of', 'IKEA', 'is', 'so', 'cute', '.', 'Shame', \"I'm\", 'nearly', '19', 'in', '2', 'months', ':('], ['@Hegelbon', 'That', 'heart', 'sliding', 'into', 'the', 'waste', 'basket', '.', ':(']]\n"
     ]
    }
   ],
   "source": [
    "# pre-processing\n",
    "import numpy as np\n",
    "tweet_tokens_pos = twitter_samples.tokenized('positive_tweets.json')\n",
    "tweet_tokens_neg = twitter_samples.tokenized('negative_tweets.json')\n",
    "all_tweets = tweet_tokens_pos + tweet_tokens_neg\n",
    "labels = np.concatenate((np.ones(len(positive_tweets)), np.zeros(len(negative_tweets))))\n",
    "print(tweet_tokens_pos[:3])\n",
    "print(tweet_tokens_neg[:3])"
   ]
  },
  {
   "cell_type": "markdown",
   "metadata": {},
   "source": [
    "## Getting stopwords and punctuations"
   ]
  },
  {
   "cell_type": "code",
   "execution_count": 7,
   "metadata": {
    "colab": {
     "base_uri": "https://localhost:8080/"
    },
    "execution": {
     "iopub.execute_input": "2025-04-13T09:12:44.280933Z",
     "iopub.status.busy": "2025-04-13T09:12:44.280573Z",
     "iopub.status.idle": "2025-04-13T09:12:44.288275Z",
     "shell.execute_reply": "2025-04-13T09:12:44.287279Z",
     "shell.execute_reply.started": "2025-04-13T09:12:44.280908Z"
    },
    "id": "wTWyFH2aE8MI",
    "outputId": "205b202c-bcd1-42bb-9bf6-c1d14419da84",
    "trusted": true
   },
   "outputs": [
    {
     "name": "stdout",
     "output_type": "stream",
     "text": [
      "Stop words\n",
      "\n",
      "{'themselves', \"we've\", 'you', 's', 'was', 'yourselves', 'didn', 'our', 'again', 'ourselves', 'aren', 'his', 'they', 'yours', \"we're\", 'where', 'am', 'below', \"i've\", 'from', \"they'd\", \"i'd\", 'have', 'being', 'should', 'against', \"we'll\", 'why', 'here', 'how', \"shan't\", 'my', 'now', 'be', 'with', 're', 'd', 'them', 'before', \"she'll\", 'doesn', 'don', 'while', 'will', 'and', 'but', 'nor', 'all', 'herself', 'couldn', 'by', 'been', 'hasn', \"he'll\", 'their', 'some', 'a', 'shan', \"you'll\", 'not', 'just', 'off', 'only', \"she'd\", \"couldn't\", 'into', 'down', 'o', 'such', \"you've\", 'so', 'needn', 'there', 'weren', 'if', 'because', \"it'll\", 'no', 'own', \"it's\", 'on', 'y', \"he'd\", \"should've\", 'for', \"doesn't\", 'over', 'between', 'she', 'or', 'of', 'to', 'other', \"hadn't\", \"don't\", 'him', \"that'll\", 'through', 'wouldn', \"mustn't\", 'who', 'in', 'are', 'up', \"wouldn't\", 'does', 'when', 'once', 'wasn', \"they've\", 'more', 'shouldn', 'do', 'each', 'then', 'did', 'which', 'about', 'under', 'me', 't', 'ma', 'has', 'hadn', 'yourself', 'mightn', 'doing', \"i'll\", \"wasn't\", 'haven', 'theirs', 'until', \"we'd\", 'as', \"it'd\", \"needn't\", 'i', 'these', \"won't\", 'at', \"he's\", 'most', 'it', 'her', \"isn't\", \"they'll\", 'can', 'any', 'too', 'few', 'that', 'll', 'myself', 'its', 'he', \"she's\", \"shouldn't\", 'himself', \"weren't\", 'during', \"i'm\", 'this', 'further', 'itself', 'mustn', 'whom', 'ain', 'had', \"haven't\", 'the', 'having', 'won', \"aren't\", \"mightn't\", 'same', 'were', \"you'd\", 'after', 'your', 'than', \"didn't\", 'out', 'isn', 'both', \"they're\", 'an', 'what', \"you're\", 'very', 'those', 'ours', 'is', 've', 'above', \"hasn't\", 'hers', 'we', 'm'}\n",
      "\n",
      "Punctuation\n",
      "\n",
      "!\"#$%&'()*\n"
     ]
    }
   ],
   "source": [
    "# getting stop words and punctuation\n",
    "import string\n",
    "from nltk.corpus import stopwords\n",
    "stopwords_english = set(stopwords.words('english'))\n",
    "print('Stop words\\n')\n",
    "print(stopwords_english)\n",
    "print('\\nPunctuation\\n')\n",
    "print(string.punctuation[:10])"
   ]
  },
  {
   "cell_type": "markdown",
   "metadata": {},
   "source": [
    "## Removing stop words and punctuations"
   ]
  },
  {
   "cell_type": "code",
   "execution_count": 8,
   "metadata": {
    "colab": {
     "base_uri": "https://localhost:8080/"
    },
    "execution": {
     "iopub.execute_input": "2025-04-13T09:13:18.370413Z",
     "iopub.status.busy": "2025-04-13T09:13:18.370077Z",
     "iopub.status.idle": "2025-04-13T09:13:18.430441Z",
     "shell.execute_reply": "2025-04-13T09:13:18.429513Z",
     "shell.execute_reply.started": "2025-04-13T09:13:18.370387Z"
    },
    "id": "Y50zJucSE8MJ",
    "outputId": "ba7c6e32-3d5f-445b-85e3-95964067c36d",
    "trusted": true
   },
   "outputs": [
    {
     "name": "stdout",
     "output_type": "stream",
     "text": [
      "\u001b[92m\n",
      "[['#FollowFriday', '@France_Inte', '@PKuchly57', '@Milipol_Paris', 'for', 'being', 'top', 'engaged', 'members', 'in', 'my', 'community', 'this', 'week', ':)'], ['@Lamb2ja', 'Hey', 'James', '!', 'How', 'odd', ':/', 'Please', 'call', 'our', 'Contact', 'Centre', 'on', '02392441234', 'and', 'we', 'will', 'be', 'able', 'to', 'assist', 'you', ':)', 'Many', 'thanks', '!'], ['@DespiteOfficial', 'we', 'had', 'a', 'listen', 'last', 'night', ':)', 'As', 'You', 'Bleed', 'is', 'an', 'amazing', 'track', '.', 'When', 'are', 'you', 'in', 'Scotland', '?', '!']]\n",
      "\u001b[94m\n",
      "removed stop words and punctuation:\n",
      "[['#followfriday', '@france_inte', '@pkuchly57', '@milipol_paris', 'top', 'engaged', 'members', 'community', 'week', ':)'], ['@lamb2ja', 'hey', 'james', 'how', 'odd', ':/', 'please', 'call', 'contact', 'centre', '02392441234', 'able', 'assist', ':)', 'many', 'thanks'], ['@despiteofficial', 'listen', 'last', 'night', ':)', 'as', 'you', 'bleed', 'amazing', 'track', 'when', 'scotland']]\n"
     ]
    }
   ],
   "source": [
    "# removing stopword and punctuation from tweets, and converting to lowercase\n",
    "print('\\033[92m')\n",
    "print(all_tweets[:3])\n",
    "print('\\033[94m')\n",
    "cleaned_tweets = []\n",
    "for tweet in all_tweets:\n",
    "    cleaned_tweet = []\n",
    "    for word in tweet:\n",
    "        if (word not in stopwords_english and word not in string.punctuation):\n",
    "            cleaned_tweet.append(word.lower())\n",
    "    cleaned_tweets.append(cleaned_tweet)\n",
    "print('removed stop words and punctuation:')\n",
    "print(cleaned_tweets[:3])"
   ]
  },
  {
   "cell_type": "markdown",
   "metadata": {},
   "source": [
    "## Dealing with emotes :( :)"
   ]
  },
  {
   "cell_type": "code",
   "execution_count": 9,
   "metadata": {
    "colab": {
     "base_uri": "https://localhost:8080/"
    },
    "execution": {
     "iopub.execute_input": "2025-04-13T09:13:30.769940Z",
     "iopub.status.busy": "2025-04-13T09:13:30.769596Z",
     "iopub.status.idle": "2025-04-13T09:13:30.779014Z",
     "shell.execute_reply": "2025-04-13T09:13:30.778141Z",
     "shell.execute_reply.started": "2025-04-13T09:13:30.769916Z"
    },
    "id": "SGHsSNzHE8ML",
    "outputId": "e3ab0553-fe6a-48e9-d50e-776f8dd2cf08",
    "trusted": true
   },
   "outputs": [],
   "source": [
    "# handling emojis and emoticons\n",
    "# happy emoticons\n",
    "emoticons_happy = set([\n",
    "    ':-)', ':)', ';)', ':o)', ':]', ':3', ':c)', ':>', '=]', '8)', '=)', ':}',\n",
    "    ':^)', ':-D', ':D', '8-D', '8D', 'x-D', 'xD', 'X-D', 'XD', '=-D', '=D',\n",
    "    '=-3', '=3', ':-))', \":'-)\", \":')\", ':*', ':^*', '>:P', ':-P', ':P', 'X-P',\n",
    "    'x-p', 'xp', 'XP', ':-p', ':p', '=p', ':-b', ':b', '>:)', '>;)', '>:-)',\n",
    "    '<3'\n",
    "    ])\n",
    "# sad emoticons\n",
    "emoticons_sad = set([\n",
    "    ':L', ':-/', '>:/', ':S', '>:[', ':@', ':-(', ':[', ':-||', '=L', ':<',\n",
    "    ':-[', ':-<', '=\\\\', '=/', '>:(', ':(', '>.<', \":'-(\", \":'(\", ':\\\\', ':-c',\n",
    "    ':c', ':{', '>:\\\\', ';(', ':/'\n",
    "    ])"
   ]
  },
  {
   "cell_type": "code",
   "execution_count": 10,
   "metadata": {
    "colab": {
     "base_uri": "https://localhost:8080/"
    },
    "execution": {
     "iopub.execute_input": "2025-04-13T09:13:37.151688Z",
     "iopub.status.busy": "2025-04-13T09:13:37.151343Z",
     "iopub.status.idle": "2025-04-13T09:13:37.189807Z",
     "shell.execute_reply": "2025-04-13T09:13:37.188541Z",
     "shell.execute_reply.started": "2025-04-13T09:13:37.151666Z"
    },
    "id": "C9GBNfbNE8ML",
    "outputId": "f02e0497-5073-4aa7-bfeb-ca97f70a42e1",
    "trusted": true
   },
   "outputs": [
    {
     "name": "stdout",
     "output_type": "stream",
     "text": [
      "\u001b[92m\n",
      "[['#followfriday', '@france_inte', '@pkuchly57', '@milipol_paris', 'top', 'engaged', 'members', 'community', 'week', ':)'], ['@lamb2ja', 'hey', 'james', 'how', 'odd', ':/', 'please', 'call', 'contact', 'centre', '02392441234', 'able', 'assist', ':)', 'many', 'thanks'], ['@despiteofficial', 'listen', 'last', 'night', ':)', 'as', 'you', 'bleed', 'amazing', 'track', 'when', 'scotland']]\n",
      "\u001b[94m\n",
      "removed emote icons and replace with sentiments\n",
      "[['#followfriday', '@france_inte', '@pkuchly57', '@milipol_paris', 'top', 'engaged', 'members', 'community', 'week', 'happy'], ['@lamb2ja', 'hey', 'james', 'how', 'odd', 'sad', 'please', 'call', 'contact', 'centre', '02392441234', 'able', 'assist', 'happy', 'many', 'thanks'], ['@despiteofficial', 'listen', 'last', 'night', 'happy', 'as', 'you', 'bleed', 'amazing', 'track', 'when', 'scotland']]\n"
     ]
    }
   ],
   "source": [
    "print('\\033[92m')\n",
    "print(cleaned_tweets[:3])\n",
    "print('\\033[94m')\n",
    "de_emoteicons_tweets = []\n",
    "for tweet in cleaned_tweets:\n",
    "    de_emoteicons_tweet = []\n",
    "    for index, word in enumerate(tweet):\n",
    "        if word in emoticons_happy:\n",
    "            de_emoteicons_tweet.append('happy')\n",
    "        elif word in emoticons_sad:\n",
    "            de_emoteicons_tweet.append('sad')\n",
    "        else:\n",
    "            de_emoteicons_tweet.append(word)\n",
    "\n",
    "    de_emoteicons_tweets.append(de_emoteicons_tweet)\n",
    "print('removed emote icons and replace with sentiments')\n",
    "print(de_emoteicons_tweets[:3])"
   ]
  },
  {
   "cell_type": "markdown",
   "metadata": {},
   "source": [
    "## Dealing with emojies gives less accuracy(due to some mislabeled examples may be)"
   ]
  },
  {
   "cell_type": "code",
   "execution_count": 11,
   "metadata": {
    "colab": {
     "base_uri": "https://localhost:8080/",
     "height": 386
    },
    "execution": {
     "iopub.execute_input": "2025-04-13T09:14:22.296890Z",
     "iopub.status.busy": "2025-04-13T09:14:22.296522Z",
     "iopub.status.idle": "2025-04-13T09:14:22.301973Z",
     "shell.execute_reply": "2025-04-13T09:14:22.300930Z",
     "shell.execute_reply.started": "2025-04-13T09:14:22.296865Z"
    },
    "id": "yUpOpY6sE8MM",
    "outputId": "7bb87d54-c466-466d-d6fb-04e7b74892f9",
    "trusted": true
   },
   "outputs": [],
   "source": [
    "# # remove emojies using emoji library\n",
    "# import emoji\n",
    "# print('\\033[92m')\n",
    "# print(de_emoteicons_tweets[:3])\n",
    "# print('\\033[94m')\n",
    "# def remove_emoji(text):\n",
    "#     return emoji.demojize(text).replace(\":\", \"\").replace(\"_\", \" \")\n",
    "\n",
    "# no_emoji_tweets = []\n",
    "\n",
    "# for tweet in de_emoteicons_tweets:\n",
    "#     no_emoji_tweet = []\n",
    "#     for word in tweet:\n",
    "#         no_emoji_tweet.append(remove_emoji(word))\n",
    "#     no_emoji_tweets.append(no_emoji_tweet)\n",
    "\n",
    "# print('removed emoji')\n",
    "# print(no_emoji_tweets[:3])\n",
    "\n",
    "# commenting this section gives a little bit both performance. \n",
    "# it is simple algorithm so it may also lack context so it is better to include that, in most cases"
   ]
  },
  {
   "cell_type": "markdown",
   "metadata": {},
   "source": [
    "## Removing urls, handles, hashtags etc"
   ]
  },
  {
   "cell_type": "code",
   "execution_count": 12,
   "metadata": {
    "colab": {
     "base_uri": "https://localhost:8080/"
    },
    "execution": {
     "iopub.execute_input": "2025-04-13T09:14:33.415331Z",
     "iopub.status.busy": "2025-04-13T09:14:33.415025Z",
     "iopub.status.idle": "2025-04-13T09:14:33.806906Z",
     "shell.execute_reply": "2025-04-13T09:14:33.806033Z",
     "shell.execute_reply.started": "2025-04-13T09:14:33.415308Z"
    },
    "id": "LeLmtWpSE8MM",
    "outputId": "14fc2115-62f7-41ea-8302-b6fa2d1fd7b5",
    "trusted": true
   },
   "outputs": [
    {
     "name": "stdout",
     "output_type": "stream",
     "text": [
      "\u001b[92m\n",
      "['#followfriday', '@france_inte', '@pkuchly57', '@milipol_paris', 'top', 'engaged', 'members', 'community', 'week', 'happy']\n",
      "\u001b[94m\n",
      "removed twitter handles\n",
      "[['top', 'engaged', 'members', 'community', 'week', 'happy'], ['hey', 'james', 'how', 'odd', 'sad', 'please', 'call', 'contact', 'centre', 'able', 'assist', 'happy', 'many', 'thanks'], ['listen', 'last', 'night', 'happy', 'as', 'you', 'bleed', 'amazing', 'track', 'when', 'scotland']]\n"
     ]
    }
   ],
   "source": [
    "# removing twitter handles and emails links etc\n",
    "print('\\033[92m')\n",
    "print(de_emoteicons_tweets[0])\n",
    "print('\\033[94m')\n",
    "import re\n",
    "\n",
    "# for removing handles\n",
    "handles_pattern = r'@[\\w]+'\n",
    "\n",
    "# for removing links\n",
    "url_pattern1 = r'https?://[A-Za-z0-9./]+'\n",
    "url_pattern2 = r'www.[^ ]+'\n",
    "\n",
    "# for removing emails\n",
    "email_pattern = r'\\S+@\\S+'\n",
    "\n",
    "# for removing hashtags\n",
    "hashtag_pattern = r'#[\\w]+'\n",
    "\n",
    "# for removing numbers\n",
    "number_pattern = r'\\d+'\n",
    "\n",
    "de_handle_tweets = []\n",
    "for tweet in de_emoteicons_tweets:\n",
    "    de_handle_tweet = []\n",
    "    for word in tweet:\n",
    "        word = re.sub(handles_pattern, '', word)\n",
    "        word = re.sub(url_pattern1, '', word)\n",
    "        word = re.sub(url_pattern2, '', word)\n",
    "        word = re.sub(email_pattern, '', word)\n",
    "        word = re.sub(hashtag_pattern, '', word)\n",
    "        word = re.sub(number_pattern, '', word)\n",
    "        de_handle_tweet.append(word) if word != '' else None\n",
    "    de_handle_tweets.append(de_handle_tweet)\n",
    "print('removed twitter handles')\n",
    "print(de_handle_tweets[:3])"
   ]
  },
  {
   "cell_type": "code",
   "execution_count": 13,
   "metadata": {
    "colab": {
     "base_uri": "https://localhost:8080/"
    },
    "execution": {
     "iopub.execute_input": "2025-04-13T09:14:38.330743Z",
     "iopub.status.busy": "2025-04-13T09:14:38.330027Z",
     "iopub.status.idle": "2025-04-13T09:14:38.336086Z",
     "shell.execute_reply": "2025-04-13T09:14:38.335113Z",
     "shell.execute_reply.started": "2025-04-13T09:14:38.330717Z"
    },
    "id": "SOceuYQ0E8MM",
    "outputId": "4b242903-ffa3-4a95-d5cc-84b1692214c0",
    "trusted": true
   },
   "outputs": [
    {
     "name": "stdout",
     "output_type": "stream",
     "text": [
      "\u001b[92m\n",
      "[['top', 'engaged', 'members', 'community', 'week', 'happy'], ['hey', 'james', 'how', 'odd', 'sad', 'please', 'call', 'contact', 'centre', 'able', 'assist', 'happy', 'many', 'thanks'], ['listen', 'last', 'night', 'happy', 'as', 'you', 'bleed', 'amazing', 'track', 'when', 'scotland']]\n",
      "\u001b[94m\n"
     ]
    }
   ],
   "source": [
    "# checking all tweets once\n",
    "print('\\033[92m')\n",
    "print(de_handle_tweets[:3])\n",
    "print('\\033[94m')"
   ]
  },
  {
   "cell_type": "markdown",
   "metadata": {},
   "source": [
    "# Train test split"
   ]
  },
  {
   "cell_type": "code",
   "execution_count": 14,
   "metadata": {
    "execution": {
     "iopub.execute_input": "2025-04-13T09:14:40.219851Z",
     "iopub.status.busy": "2025-04-13T09:14:40.219483Z",
     "iopub.status.idle": "2025-04-13T09:14:40.230556Z",
     "shell.execute_reply": "2025-04-13T09:14:40.229457Z",
     "shell.execute_reply.started": "2025-04-13T09:14:40.219826Z"
    },
    "id": "XYgc3E7dE8MO",
    "trusted": true
   },
   "outputs": [],
   "source": [
    "from sklearn.model_selection import train_test_split\n",
    "\n",
    "# train test split\n",
    "X_train, X_test, y_train, y_test = train_test_split(de_handle_tweets, labels, test_size=0.2, random_state=42)"
   ]
  },
  {
   "cell_type": "markdown",
   "metadata": {},
   "source": [
    "# Vectorization using CountVectorizer"
   ]
  },
  {
   "cell_type": "code",
   "execution_count": 15,
   "metadata": {
    "colab": {
     "base_uri": "https://localhost:8080/"
    },
    "execution": {
     "iopub.execute_input": "2025-04-13T09:14:44.516391Z",
     "iopub.status.busy": "2025-04-13T09:14:44.516058Z",
     "iopub.status.idle": "2025-04-13T09:14:44.949059Z",
     "shell.execute_reply": "2025-04-13T09:14:44.948263Z",
     "shell.execute_reply.started": "2025-04-13T09:14:44.516365Z"
    },
    "id": "-yI_5KlME8MO",
    "outputId": "957adc9b-8c68-45de-b028-84cf77faa606",
    "trusted": true
   },
   "outputs": [
    {
     "name": "stdout",
     "output_type": "stream",
     "text": [
      "(8000, 9341)\n",
      "(2000, 9341)\n",
      "<Compressed Sparse Row sparse matrix of dtype 'int64'\n",
      "\twith 2 stored elements and shape (1, 9341)>\n",
      "  Coords\tValues\n",
      "  (0, 6977)\t1\n",
      "  (0, 5019)\t1\n",
      "[[0 0 0 ... 0 0 0]]\n",
      "['__' '___' '__final_final_final' ... 'للعودة' 'ｍｅ' 'ｓｅｅ']\n"
     ]
    }
   ],
   "source": [
    "from sklearn.feature_extraction.text import CountVectorizer\n",
    "\n",
    "# Assuming X_train and X_test are lists of tokenized words\n",
    "vectorizer = CountVectorizer()\n",
    "\n",
    "# Transform the tokenized lists directly (no need for looping and rejoining)\n",
    "X_train_vectorized = vectorizer.fit_transform([' '.join(tweet) for tweet in X_train])\n",
    "X_test_vectorized = vectorizer.transform([' '.join(tweet) for tweet in X_test])\n",
    "\n",
    "# Print shapes of the resulting sparse matrices\n",
    "print(X_train_vectorized.shape)  # Number of documents x Number of unique words\n",
    "print(X_test_vectorized.shape)\n",
    "\n",
    "\n",
    "X_train_array = X_train_vectorized.toarray()\n",
    "X_test_array = X_test_vectorized.toarray()\n",
    "\n",
    "# To inspect a specific document's word counts, you can access it like this:\n",
    "# Get the first document's vector (sparse matrix format)\n",
    "print(X_train_vectorized[0])  # Sparse matrix format\n",
    "# If you want to see the word counts (dense format):\n",
    "print(X_train_vectorized[0].toarray())\n",
    "\n",
    "# Print the feature names (words corresponding to columns)\n",
    "print(vectorizer.get_feature_names_out())\n"
   ]
  },
  {
   "cell_type": "code",
   "execution_count": 16,
   "metadata": {
    "colab": {
     "base_uri": "https://localhost:8080/"
    },
    "execution": {
     "iopub.execute_input": "2025-04-13T09:14:48.074468Z",
     "iopub.status.busy": "2025-04-13T09:14:48.073843Z",
     "iopub.status.idle": "2025-04-13T09:14:48.080531Z",
     "shell.execute_reply": "2025-04-13T09:14:48.079197Z",
     "shell.execute_reply.started": "2025-04-13T09:14:48.074437Z"
    },
    "id": "0PBuHKJUE8MO",
    "outputId": "ad3c3191-f13b-4202-c040-3edd4ec9d144",
    "trusted": true
   },
   "outputs": [
    {
     "name": "stdout",
     "output_type": "stream",
     "text": [
      "(8000, 9341)\n",
      "(2000, 9341)\n",
      "(8000,)\n",
      "(2000,)\n"
     ]
    }
   ],
   "source": [
    "print(X_train_array.shape)\n",
    "print(X_test_array.shape)\n",
    "print(y_train.shape)\n",
    "print(y_test.shape)"
   ]
  },
  {
   "cell_type": "code",
   "execution_count": 17,
   "metadata": {
    "colab": {
     "base_uri": "https://localhost:8080/"
    },
    "execution": {
     "iopub.execute_input": "2025-04-13T09:14:50.178605Z",
     "iopub.status.busy": "2025-04-13T09:14:50.178274Z",
     "iopub.status.idle": "2025-04-13T09:14:50.185576Z",
     "shell.execute_reply": "2025-04-13T09:14:50.184622Z",
     "shell.execute_reply.started": "2025-04-13T09:14:50.178580Z"
    },
    "id": "yD9d4OfkE8MP",
    "outputId": "4ddaf590-eb1b-4102-e7bc-34e0f14249ef",
    "trusted": true
   },
   "outputs": [
    {
     "name": "stdout",
     "output_type": "stream",
     "text": [
      "[['sad', 'matt'], ['good', 'thanks', 'anyway', 'happy'], ['bf', 'mean', 'happy'], ['zzzz', 'missed', 'stop', 'sad'], ['means', 'am', 'australia', 'sad'], ['fake', 'i', 'texted', 'sad'], ['this', 'actually', 'made', 'cry', 'disgusting', 'what', 'the', 'actual', 'fuck', 'im', 'disgusted', \"i've\", 'seen', 'poor', 'people', 'sad'], [\"we're\", 'sorry', 'google', 'play', 'music', 'currently', 'experiencing', 'errors', 'please', 'try', 'minutes', 'sad'], ['have', 'good', 'match', 'nite', 'boys', 'lets', 'go', 'comp', 'high', 'enjoy', 'happy'], ['after', 'earth', 'happy']]\n",
      "[['i', 'love', 'feel', 'emm', 'i', 'think', 'sad'], ['thanks', 'guys', 'happy'], ['your', 'love', 'o', 'lord', 'better', 'life', 'happy', 'happy'], ['yeah', 'better', 'use', 'official', 'account', 'happy', 'like', 'the', 'other', '❤', '️'], ['ok', 'good', 'night', 'i', 'wish', 'troye', 'ugly', 'i', 'met', 'today', 'happy', '):', 'ok', 'today', 'fun', \"i'm\", 'excited', 'tmrw'], [\"i'm\", 'surprised', 'sounds', 'hellish', 'why', 'would', 'thing', 'sad'], ['dry', 'hot', 'scorching', 'summer', 'happy'], ['sad', 'pray', 'sad'], ['popol', 'day', 'sad'], ['my', 'song', 'week', 'ducktails', 'surreal', 'exposure', 'jingly', 'jangly', 'loveliness', 'happy']]\n",
      "[0. 1. 1. 0. 0. 0. 0. 0. 1. 1.]\n",
      "[0. 1. 1. 1. 1. 0. 1. 0. 0. 1.]\n"
     ]
    }
   ],
   "source": [
    "print(X_train[:10])\n",
    "print(X_test[:10])\n",
    "print(y_train[:10])\n",
    "print(y_test[:10])\n"
   ]
  },
  {
   "cell_type": "markdown",
   "metadata": {},
   "source": [
    "# Sigmoid function"
   ]
  },
  {
   "cell_type": "code",
   "execution_count": 18,
   "metadata": {
    "colab": {
     "base_uri": "https://localhost:8080/"
    },
    "execution": {
     "iopub.execute_input": "2025-04-13T09:14:52.652619Z",
     "iopub.status.busy": "2025-04-13T09:14:52.652226Z",
     "iopub.status.idle": "2025-04-13T09:14:53.099124Z",
     "shell.execute_reply": "2025-04-13T09:14:53.098324Z",
     "shell.execute_reply.started": "2025-04-13T09:14:52.652594Z"
    },
    "id": "G8fmDeddE8MP",
    "outputId": "489f002f-c9e6-4b07-c00b-2d55e4133e6b",
    "trusted": true
   },
   "outputs": [
    {
     "name": "stdout",
     "output_type": "stream",
     "text": [
      "(8000,)\n",
      "[0.50073916 0.49037423 0.49816607 0.5014972  0.49756189]\n"
     ]
    }
   ],
   "source": [
    "# own implementation of logistic regression\n",
    "def sigmoid(z):\n",
    "    return 1/ (1 + np.exp(-z))\n",
    "\n",
    "# number of training examples\n",
    "m = X_train_array.shape[0]\n",
    "\n",
    "# number of features\n",
    "n = X_train_array.shape[1]\n",
    "\n",
    "# initializing weights and bias\n",
    "initialize_weights = np.random.randn(n) * 0.01\n",
    "initialize_bias = 0\n",
    "\n",
    "\n",
    "## below lines are just for test\n",
    "z = np.dot(X_train_array, initialize_weights) + initialize_bias\n",
    "predictions = sigmoid(z) # as X_train is sparse matrix and z to so for calculating sigmoid we need to convert it to dense matrix\n",
    "print(predictions.shape)\n",
    "print(predictions[:5])\n",
    "\n"
   ]
  },
  {
   "cell_type": "markdown",
   "metadata": {},
   "source": [
    "# Compute Gradient, Cost function and Gradient descent"
   ]
  },
  {
   "cell_type": "code",
   "execution_count": 20,
   "metadata": {
    "colab": {
     "base_uri": "https://localhost:8080/"
    },
    "execution": {
     "iopub.execute_input": "2025-04-13T09:23:31.277589Z",
     "iopub.status.busy": "2025-04-13T09:23:31.277213Z",
     "iopub.status.idle": "2025-04-13T09:30:00.333113Z",
     "shell.execute_reply": "2025-04-13T09:30:00.332024Z",
     "shell.execute_reply.started": "2025-04-13T09:23:31.277561Z"
    },
    "id": "rXbO3C-DE8MP",
    "outputId": "c63c7846-f8f2-4bcf-eb81-914b6fe2c8e3",
    "trusted": true
   },
   "outputs": [
    {
     "name": "stdout",
     "output_type": "stream",
     "text": [
      "Epoch 0, Cost: 0.28318730214608423\n",
      "Epoch 10, Cost: 0.2808821794568712\n",
      "Epoch 20, Cost: 0.27861712827310864\n",
      "Epoch 30, Cost: 0.27639113517437963\n",
      "Epoch 40, Cost: 0.2742032206930761\n",
      "Epoch 50, Cost: 0.27205243786529615\n",
      "Epoch 60, Cost: 0.2699378708582407\n",
      "Epoch 70, Cost: 0.2678586336692897\n",
      "Epoch 80, Cost: 0.2658138688922871\n",
      "Epoch 90, Cost: 0.2638027465468823\n",
      "Epoch 100, Cost: 0.2618244629670703\n",
      "Epoch 110, Cost: 0.2598782397453457\n",
      "Epoch 120, Cost: 0.2579633227291341\n",
      "Epoch 130, Cost: 0.2560789810663987\n",
      "Epoch 140, Cost: 0.25422450629752874\n",
      "Epoch 150, Cost: 0.2523992114908185\n",
      "Epoch 160, Cost: 0.25060243041902225\n",
      "Epoch 170, Cost: 0.24883351677464363\n",
      "Epoch 180, Cost: 0.2470918434217702\n",
      "Epoch 190, Cost: 0.24537680168240922\n",
      "Epoch 200, Cost: 0.24368780065541407\n",
      "Epoch 210, Cost: 0.2420242665662135\n",
      "Epoch 220, Cost: 0.24038564214567162\n",
      "Epoch 230, Cost: 0.23877138603651185\n",
      "Epoch 240, Cost: 0.23718097222583642\n",
      "Epoch 250, Cost: 0.23561388950236598\n",
      "Epoch 260, Cost: 0.23406964093710628\n",
      "Epoch 270, Cost: 0.2325477433862317\n",
      "Epoch 280, Cost: 0.23104772701504495\n",
      "Epoch 290, Cost: 0.22956913484194402\n",
      "Epoch 300, Cost: 0.22811152230138917\n",
      "Epoch 310, Cost: 0.22667445682492285\n",
      "Epoch 320, Cost: 0.22525751743935118\n",
      "Epoch 330, Cost: 0.22386029438124697\n",
      "Epoch 340, Cost: 0.22248238872698223\n",
      "Epoch 350, Cost: 0.22112341203754426\n",
      "Epoch 360, Cost: 0.21978298601742963\n",
      "Epoch 370, Cost: 0.2184607421869522\n",
      "Epoch 380, Cost: 0.21715632156733647\n",
      "Epoch 390, Cost: 0.2158693743780022\n",
      "Epoch 400, Cost: 0.21459955974547956\n",
      "Epoch 410, Cost: 0.2133465454234235\n",
      "Epoch 420, Cost: 0.2121100075232245\n",
      "Epoch 430, Cost: 0.21088963025474033\n",
      "Epoch 440, Cost: 0.2096851056766974\n",
      "Epoch 450, Cost: 0.20849613345633447\n",
      "Epoch 460, Cost: 0.20732242063788378\n",
      "Epoch 470, Cost: 0.2061636814195045\n",
      "Epoch 480, Cost: 0.20501963693830436\n",
      "Epoch 490, Cost: 0.20389001506310245\n",
      "Epoch 500, Cost: 0.20277455019460394\n",
      "Epoch 510, Cost: 0.20167298307267453\n",
      "Epoch 520, Cost: 0.20058506059041672\n",
      "Epoch 530, Cost: 0.19951053561476517\n",
      "Epoch 540, Cost: 0.19844916681333188\n",
      "Epoch 550, Cost: 0.19740071848724564\n",
      "Epoch 560, Cost: 0.19636496040974055\n",
      "Epoch 570, Cost: 0.1953416676702624\n",
      "Epoch 580, Cost: 0.19433062052387076\n",
      "Epoch 590, Cost: 0.19333160424572612\n",
      "Epoch 600, Cost: 0.19234440899045976\n",
      "Epoch 610, Cost: 0.1913688296562356\n",
      "Epoch 620, Cost: 0.19040466575331955\n",
      "Epoch 630, Cost: 0.18945172127698162\n",
      "Epoch 640, Cost: 0.18850980458456457\n",
      "Epoch 650, Cost: 0.18757872827655733\n",
      "Epoch 660, Cost: 0.18665830908152334\n",
      "Epoch 670, Cost: 0.185748367744735\n",
      "Epoch 680, Cost: 0.18484872892037754\n",
      "Epoch 690, Cost: 0.1839592210671869\n",
      "Epoch 700, Cost: 0.18307967634739433\n",
      "Epoch 710, Cost: 0.18220993052885662\n",
      "Epoch 720, Cost: 0.18134982289025356\n",
      "Epoch 730, Cost: 0.1804991961292416\n",
      "Epoch 740, Cost: 0.17965789627345571\n",
      "Epoch 750, Cost: 0.17882577259425742\n",
      "Epoch 760, Cost: 0.17800267752312926\n",
      "Epoch 770, Cost: 0.17718846657062284\n",
      "Epoch 780, Cost: 0.17638299824776818\n",
      "Epoch 790, Cost: 0.1755861339898588\n",
      "Epoch 800, Cost: 0.17479773808252827\n",
      "Epoch 810, Cost: 0.1740176775900386\n",
      "Epoch 820, Cost: 0.17324582228570376\n",
      "Epoch 830, Cost: 0.17248204458437413\n",
      "Epoch 840, Cost: 0.17172621947691186\n",
      "Epoch 850, Cost: 0.17097822446658756\n",
      "Epoch 860, Cost: 0.1702379395073354\n",
      "Epoch 870, Cost: 0.16950524694380095\n",
      "Epoch 880, Cost: 0.16878003145312387\n",
      "Epoch 890, Cost: 0.16806217998839532\n",
      "Epoch 900, Cost: 0.16735158172373604\n",
      "Epoch 910, Cost: 0.16664812800094\n",
      "Epoch 920, Cost: 0.16595171227763275\n",
      "Epoch 930, Cost: 0.1652622300768942\n",
      "Epoch 940, Cost: 0.16457957893829855\n",
      "Epoch 950, Cost: 0.16390365837032486\n",
      "Epoch 960, Cost: 0.16323436980409378\n",
      "Epoch 970, Cost: 0.16257161654838842\n",
      "Epoch 980, Cost: 0.161915303745917\n",
      "Epoch 990, Cost: 0.16126533833077913\n"
     ]
    }
   ],
   "source": [
    "# cost function\n",
    "def compute_gradients(X, y, y_hat):\n",
    "    m = y.shape[0] # number of training examples\n",
    "\n",
    "    dw = (1/m) * np.dot(X.T, (y_hat - y))\n",
    "    db = (1/m) * np.sum(y_hat - y)\n",
    "\n",
    "    return dw, db\n",
    "\n",
    "\n",
    "def compute_cost(y, y_hat):\n",
    "    m = y.shape[0] # number of training examples\n",
    "    epsilon = 1e-15  # prevent log(0)\n",
    "    y_hat = np.clip(y_hat, epsilon, 1 - epsilon) # restrict y_hat to avoid log(0)\n",
    "\n",
    "    cost = (-1/m) * np.sum(y * np.log(y_hat) + (1-y) * np.log(1-y_hat))\n",
    "    return cost\n",
    "\n",
    "# Gradient Descent\n",
    "def gradient_descent(X, y, weights, bias, epochs, learning_rate=0.01):\n",
    "    costs = []\n",
    "    for i in range(epochs):\n",
    "        z = np.dot(X, weights) + bias\n",
    "\n",
    "        y_hat = sigmoid(z)\n",
    "\n",
    "        cost = compute_cost(y, y_hat)\n",
    "        dw, db = compute_gradients(X, y, y_hat)\n",
    "\n",
    "        weights -= learning_rate * dw\n",
    "        bias -= learning_rate * db\n",
    "\n",
    "        costs.append(cost)\n",
    "        if i % 10 == 0:\n",
    "            print(f\"Epoch {i}, Cost: {cost}\")\n",
    "    return weights, bias, costs\n",
    "\n",
    "# Training the model\n",
    "epochs = 1000\n",
    "weights, bias, costs = gradient_descent(X_train_array, y_train, initialize_weights, initialize_bias, epochs, learning_rate=0.01)\n"
   ]
  },
  {
   "cell_type": "markdown",
   "metadata": {},
   "source": [
    "## Plotting cost function with epochs"
   ]
  },
  {
   "cell_type": "code",
   "execution_count": 21,
   "metadata": {
    "colab": {
     "base_uri": "https://localhost:8080/",
     "height": 472
    },
    "execution": {
     "iopub.execute_input": "2025-04-13T09:31:03.419071Z",
     "iopub.status.busy": "2025-04-13T09:31:03.418281Z",
     "iopub.status.idle": "2025-04-13T09:31:03.671939Z",
     "shell.execute_reply": "2025-04-13T09:31:03.671008Z",
     "shell.execute_reply.started": "2025-04-13T09:31:03.419036Z"
    },
    "id": "87KpnWC2E8MQ",
    "outputId": "d111e47c-53cc-48fa-8fc4-ab769d96d534",
    "trusted": true
   },
   "outputs": [
    {
     "data": {
      "image/png": "[encoded data removed]",
      "text/plain": [
       "<Figure size 640x480 with 1 Axes>"
      ]
     },
     "metadata": {},
     "output_type": "display_data"
    }
   ],
   "source": [
    "# Plotting the cost function\n",
    "import matplotlib.pyplot as plt\n",
    "plt.plot(costs)\n",
    "plt.xlabel('Epochs')\n",
    "plt.ylabel('Cost')\n",
    "plt.title('Cost Function over Epochs')\n",
    "plt.show()"
   ]
  },
  {
   "cell_type": "markdown",
   "metadata": {},
   "source": [
    "## Making predictions on test set"
   ]
  },
  {
   "cell_type": "code",
   "execution_count": 22,
   "metadata": {
    "execution": {
     "iopub.execute_input": "2025-04-13T09:31:06.423866Z",
     "iopub.status.busy": "2025-04-13T09:31:06.423497Z",
     "iopub.status.idle": "2025-04-13T09:31:06.742746Z",
     "shell.execute_reply": "2025-04-13T09:31:06.741957Z",
     "shell.execute_reply.started": "2025-04-13T09:31:06.423840Z"
    },
    "id": "UY1DLcvOE8MQ",
    "trusted": true
   },
   "outputs": [],
   "source": [
    "# Making predictions\n",
    "y_pred_train = sigmoid(np.dot(X_train_array, weights) + bias)\n",
    "y_pred_train = np.where(y_pred_train > 0.5, 1, 0)\n",
    "y_pred_test = sigmoid(np.dot(X_test_array, weights) + bias)\n",
    "y_pred_test = np.where(y_pred_test > 0.5, 1, 0)"
   ]
  },
  {
   "cell_type": "markdown",
   "metadata": {},
   "source": [
    "## Checking accuracy on test set"
   ]
  },
  {
   "cell_type": "code",
   "execution_count": 24,
   "metadata": {
    "colab": {
     "base_uri": "https://localhost:8080/"
    },
    "execution": {
     "iopub.execute_input": "2025-04-13T09:31:16.539560Z",
     "iopub.status.busy": "2025-04-13T09:31:16.538806Z",
     "iopub.status.idle": "2025-04-13T09:31:16.592915Z",
     "shell.execute_reply": "2025-04-13T09:31:16.591940Z",
     "shell.execute_reply.started": "2025-04-13T09:31:16.539533Z"
    },
    "id": "lgJLfoz-E8MQ",
    "outputId": "7b652255-0e58-42e1-bbee-3aefb773f436",
    "trusted": true
   },
   "outputs": [
    {
     "name": "stdout",
     "output_type": "stream",
     "text": [
      "Training Accuracy: 0.993375\n",
      "Test Accuracy: 0.9935\n",
      "Training Classification Report:\n",
      "               precision    recall  f1-score   support\n",
      "\n",
      "         0.0       1.00      0.99      0.99      4012\n",
      "         1.0       0.99      1.00      0.99      3988\n",
      "\n",
      "    accuracy                           0.99      8000\n",
      "   macro avg       0.99      0.99      0.99      8000\n",
      "weighted avg       0.99      0.99      0.99      8000\n",
      "\n",
      "Test Classification Report:\n",
      "               precision    recall  f1-score   support\n",
      "\n",
      "         0.0       1.00      0.99      0.99       988\n",
      "         1.0       0.99      1.00      0.99      1012\n",
      "\n",
      "    accuracy                           0.99      2000\n",
      "   macro avg       0.99      0.99      0.99      2000\n",
      "weighted avg       0.99      0.99      0.99      2000\n",
      "\n",
      "Training Confusion Matrix:\n",
      " [[3967   45]\n",
      " [   8 3980]]\n",
      "Test Confusion Matrix:\n",
      " [[ 977   11]\n",
      " [   2 1010]]\n"
     ]
    }
   ],
   "source": [
    "# Evaluating the model\n",
    "from sklearn.metrics import accuracy_score, classification_report, confusion_matrix\n",
    "print(\"Training Accuracy:\", accuracy_score(y_train, y_pred_train))\n",
    "print(\"Test Accuracy:\", accuracy_score(y_test, y_pred_test))\n",
    "print(\"Training Classification Report:\\n\", classification_report(y_train, y_pred_train))\n",
    "print(\"Test Classification Report:\\n\", classification_report(y_test, y_pred_test))\n",
    "print(\"Training Confusion Matrix:\\n\", confusion_matrix(y_train, y_pred_train))\n",
    "print(\"Test Confusion Matrix:\\n\", confusion_matrix(y_test, y_pred_test))\n",
    "\n",
    "# Plotting the confusion matrix\n"
   ]
  }
 ],
 "metadata": {
  "colab": {
   "provenance": []
  },
  "kaggle": {
   "accelerator": "none",
   "dataSources": [],
   "dockerImageVersionId": 31012,
   "isGpuEnabled": false,
   "isInternetEnabled": false,
   "language": "python",
   "sourceType": "notebook"
  },
  "kernelspec": {
   "display_name": "Python 3",
   "language": "python",
   "name": "python3"
  },
  "language_info": {
   "codemirror_mode": {
    "name": "ipython",
    "version": 3
   },
   "file_extension": ".py",
   "mimetype": "text/x-python",
   "name": "python",
   "nbconvert_exporter": "python",
   "pygments_lexer": "ipython3",
   "version": "3.11.11"
  }
 },
 "nbformat": 4,
 "nbformat_minor": 4
}
